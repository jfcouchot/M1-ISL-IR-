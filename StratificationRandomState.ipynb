{
  "cells": [
    {
      "cell_type": "markdown",
      "metadata": {
        "id": "view-in-github",
        "colab_type": "text"
      },
      "source": [
        "<a href=\"https://colab.research.google.com/github/jfcouchot/M1-ISL-IR-/blob/main/StratificationRandomState.ipynb\" target=\"_parent\"><img src=\"https://colab.research.google.com/assets/colab-badge.svg\" alt=\"Open In Colab\"/></a>"
      ]
    },
    {
      "cell_type": "markdown",
      "metadata": {
        "id": "iU0ehJUdCQcV"
      },
      "source": [
        "**Pour importer des données depuis Google Drive** \n",
        "\n",
        "On monte le dossier drive, puis on lit les fichiers csv "
      ]
    },
    {
      "cell_type": "code",
      "execution_count": 39,
      "metadata": {
        "colab": {
          "base_uri": "https://localhost:8080/"
        },
        "id": "e8KgCUXEmGK0",
        "outputId": "b8bb06c3-a05f-40b1-e812-54bba0c93673"
      },
      "outputs": [
        {
          "output_type": "stream",
          "name": "stdout",
          "text": [
            "Drive already mounted at /content/drive; to attempt to forcibly remount, call drive.mount(\"/content/drive\", force_remount=True).\n"
          ]
        }
      ],
      "source": [
        "from google.colab import drive\n",
        "import pandas as pd\n",
        "\n",
        "drive.mount('/content/drive')\n",
        "path = \"/content/drive/MyDrive/Colabs/M2ISL_IR_CM2/\"\n",
        "train_all = pd.read_csv(path+'train.csv')\n",
        "test_all = pd.read_csv(path+'test.csv')\n"
      ]
    },
    {
      "cell_type": "markdown",
      "source": [
        "affichage des données en mémoire"
      ],
      "metadata": {
        "id": "kCiwcijmHqCZ"
      }
    },
    {
      "cell_type": "code",
      "source": [
        "train_all "
      ],
      "metadata": {
        "colab": {
          "base_uri": "https://localhost:8080/",
          "height": 503
        },
        "id": "XFboj9W6HtaM",
        "outputId": "16cd7b43-98d9-43d5-a520-3ef1fa8c1e40"
      },
      "execution_count": 40,
      "outputs": [
        {
          "output_type": "execute_result",
          "data": {
            "text/html": [
              "\n",
              "  <div id=\"df-b9d6df31-77d4-41b5-a8c8-95d93f20633c\">\n",
              "    <div class=\"colab-df-container\">\n",
              "      <div>\n",
              "<style scoped>\n",
              "    .dataframe tbody tr th:only-of-type {\n",
              "        vertical-align: middle;\n",
              "    }\n",
              "\n",
              "    .dataframe tbody tr th {\n",
              "        vertical-align: top;\n",
              "    }\n",
              "\n",
              "    .dataframe thead th {\n",
              "        text-align: right;\n",
              "    }\n",
              "</style>\n",
              "<table border=\"1\" class=\"dataframe\">\n",
              "  <thead>\n",
              "    <tr style=\"text-align: right;\">\n",
              "      <th></th>\n",
              "      <th>PassengerId</th>\n",
              "      <th>Survived</th>\n",
              "      <th>Pclass</th>\n",
              "      <th>Name</th>\n",
              "      <th>Sex</th>\n",
              "      <th>Age</th>\n",
              "      <th>SibSp</th>\n",
              "      <th>Parch</th>\n",
              "      <th>Ticket</th>\n",
              "      <th>Fare</th>\n",
              "      <th>Cabin</th>\n",
              "      <th>Embarked</th>\n",
              "    </tr>\n",
              "  </thead>\n",
              "  <tbody>\n",
              "    <tr>\n",
              "      <th>0</th>\n",
              "      <td>1</td>\n",
              "      <td>0</td>\n",
              "      <td>3</td>\n",
              "      <td>Braund, Mr. Owen Harris</td>\n",
              "      <td>male</td>\n",
              "      <td>22.0</td>\n",
              "      <td>1</td>\n",
              "      <td>0</td>\n",
              "      <td>A/5 21171</td>\n",
              "      <td>7.2500</td>\n",
              "      <td>NaN</td>\n",
              "      <td>S</td>\n",
              "    </tr>\n",
              "    <tr>\n",
              "      <th>1</th>\n",
              "      <td>2</td>\n",
              "      <td>1</td>\n",
              "      <td>1</td>\n",
              "      <td>Cumings, Mrs. John Bradley (Florence Briggs Th...</td>\n",
              "      <td>female</td>\n",
              "      <td>38.0</td>\n",
              "      <td>1</td>\n",
              "      <td>0</td>\n",
              "      <td>PC 17599</td>\n",
              "      <td>71.2833</td>\n",
              "      <td>C85</td>\n",
              "      <td>C</td>\n",
              "    </tr>\n",
              "    <tr>\n",
              "      <th>2</th>\n",
              "      <td>3</td>\n",
              "      <td>1</td>\n",
              "      <td>3</td>\n",
              "      <td>Heikkinen, Miss. Laina</td>\n",
              "      <td>female</td>\n",
              "      <td>26.0</td>\n",
              "      <td>0</td>\n",
              "      <td>0</td>\n",
              "      <td>STON/O2. 3101282</td>\n",
              "      <td>7.9250</td>\n",
              "      <td>NaN</td>\n",
              "      <td>S</td>\n",
              "    </tr>\n",
              "    <tr>\n",
              "      <th>3</th>\n",
              "      <td>4</td>\n",
              "      <td>1</td>\n",
              "      <td>1</td>\n",
              "      <td>Futrelle, Mrs. Jacques Heath (Lily May Peel)</td>\n",
              "      <td>female</td>\n",
              "      <td>35.0</td>\n",
              "      <td>1</td>\n",
              "      <td>0</td>\n",
              "      <td>113803</td>\n",
              "      <td>53.1000</td>\n",
              "      <td>C123</td>\n",
              "      <td>S</td>\n",
              "    </tr>\n",
              "    <tr>\n",
              "      <th>4</th>\n",
              "      <td>5</td>\n",
              "      <td>0</td>\n",
              "      <td>3</td>\n",
              "      <td>Allen, Mr. William Henry</td>\n",
              "      <td>male</td>\n",
              "      <td>35.0</td>\n",
              "      <td>0</td>\n",
              "      <td>0</td>\n",
              "      <td>373450</td>\n",
              "      <td>8.0500</td>\n",
              "      <td>NaN</td>\n",
              "      <td>S</td>\n",
              "    </tr>\n",
              "    <tr>\n",
              "      <th>...</th>\n",
              "      <td>...</td>\n",
              "      <td>...</td>\n",
              "      <td>...</td>\n",
              "      <td>...</td>\n",
              "      <td>...</td>\n",
              "      <td>...</td>\n",
              "      <td>...</td>\n",
              "      <td>...</td>\n",
              "      <td>...</td>\n",
              "      <td>...</td>\n",
              "      <td>...</td>\n",
              "      <td>...</td>\n",
              "    </tr>\n",
              "    <tr>\n",
              "      <th>886</th>\n",
              "      <td>887</td>\n",
              "      <td>0</td>\n",
              "      <td>2</td>\n",
              "      <td>Montvila, Rev. Juozas</td>\n",
              "      <td>male</td>\n",
              "      <td>27.0</td>\n",
              "      <td>0</td>\n",
              "      <td>0</td>\n",
              "      <td>211536</td>\n",
              "      <td>13.0000</td>\n",
              "      <td>NaN</td>\n",
              "      <td>S</td>\n",
              "    </tr>\n",
              "    <tr>\n",
              "      <th>887</th>\n",
              "      <td>888</td>\n",
              "      <td>1</td>\n",
              "      <td>1</td>\n",
              "      <td>Graham, Miss. Margaret Edith</td>\n",
              "      <td>female</td>\n",
              "      <td>19.0</td>\n",
              "      <td>0</td>\n",
              "      <td>0</td>\n",
              "      <td>112053</td>\n",
              "      <td>30.0000</td>\n",
              "      <td>B42</td>\n",
              "      <td>S</td>\n",
              "    </tr>\n",
              "    <tr>\n",
              "      <th>888</th>\n",
              "      <td>889</td>\n",
              "      <td>0</td>\n",
              "      <td>3</td>\n",
              "      <td>Johnston, Miss. Catherine Helen \"Carrie\"</td>\n",
              "      <td>female</td>\n",
              "      <td>NaN</td>\n",
              "      <td>1</td>\n",
              "      <td>2</td>\n",
              "      <td>W./C. 6607</td>\n",
              "      <td>23.4500</td>\n",
              "      <td>NaN</td>\n",
              "      <td>S</td>\n",
              "    </tr>\n",
              "    <tr>\n",
              "      <th>889</th>\n",
              "      <td>890</td>\n",
              "      <td>1</td>\n",
              "      <td>1</td>\n",
              "      <td>Behr, Mr. Karl Howell</td>\n",
              "      <td>male</td>\n",
              "      <td>26.0</td>\n",
              "      <td>0</td>\n",
              "      <td>0</td>\n",
              "      <td>111369</td>\n",
              "      <td>30.0000</td>\n",
              "      <td>C148</td>\n",
              "      <td>C</td>\n",
              "    </tr>\n",
              "    <tr>\n",
              "      <th>890</th>\n",
              "      <td>891</td>\n",
              "      <td>0</td>\n",
              "      <td>3</td>\n",
              "      <td>Dooley, Mr. Patrick</td>\n",
              "      <td>male</td>\n",
              "      <td>32.0</td>\n",
              "      <td>0</td>\n",
              "      <td>0</td>\n",
              "      <td>370376</td>\n",
              "      <td>7.7500</td>\n",
              "      <td>NaN</td>\n",
              "      <td>Q</td>\n",
              "    </tr>\n",
              "  </tbody>\n",
              "</table>\n",
              "<p>891 rows × 12 columns</p>\n",
              "</div>\n",
              "      <button class=\"colab-df-convert\" onclick=\"convertToInteractive('df-b9d6df31-77d4-41b5-a8c8-95d93f20633c')\"\n",
              "              title=\"Convert this dataframe to an interactive table.\"\n",
              "              style=\"display:none;\">\n",
              "        \n",
              "  <svg xmlns=\"http://www.w3.org/2000/svg\" height=\"24px\"viewBox=\"0 0 24 24\"\n",
              "       width=\"24px\">\n",
              "    <path d=\"M0 0h24v24H0V0z\" fill=\"none\"/>\n",
              "    <path d=\"M18.56 5.44l.94 2.06.94-2.06 2.06-.94-2.06-.94-.94-2.06-.94 2.06-2.06.94zm-11 1L8.5 8.5l.94-2.06 2.06-.94-2.06-.94L8.5 2.5l-.94 2.06-2.06.94zm10 10l.94 2.06.94-2.06 2.06-.94-2.06-.94-.94-2.06-.94 2.06-2.06.94z\"/><path d=\"M17.41 7.96l-1.37-1.37c-.4-.4-.92-.59-1.43-.59-.52 0-1.04.2-1.43.59L10.3 9.45l-7.72 7.72c-.78.78-.78 2.05 0 2.83L4 21.41c.39.39.9.59 1.41.59.51 0 1.02-.2 1.41-.59l7.78-7.78 2.81-2.81c.8-.78.8-2.07 0-2.86zM5.41 20L4 18.59l7.72-7.72 1.47 1.35L5.41 20z\"/>\n",
              "  </svg>\n",
              "      </button>\n",
              "      \n",
              "  <style>\n",
              "    .colab-df-container {\n",
              "      display:flex;\n",
              "      flex-wrap:wrap;\n",
              "      gap: 12px;\n",
              "    }\n",
              "\n",
              "    .colab-df-convert {\n",
              "      background-color: #E8F0FE;\n",
              "      border: none;\n",
              "      border-radius: 50%;\n",
              "      cursor: pointer;\n",
              "      display: none;\n",
              "      fill: #1967D2;\n",
              "      height: 32px;\n",
              "      padding: 0 0 0 0;\n",
              "      width: 32px;\n",
              "    }\n",
              "\n",
              "    .colab-df-convert:hover {\n",
              "      background-color: #E2EBFA;\n",
              "      box-shadow: 0px 1px 2px rgba(60, 64, 67, 0.3), 0px 1px 3px 1px rgba(60, 64, 67, 0.15);\n",
              "      fill: #174EA6;\n",
              "    }\n",
              "\n",
              "    [theme=dark] .colab-df-convert {\n",
              "      background-color: #3B4455;\n",
              "      fill: #D2E3FC;\n",
              "    }\n",
              "\n",
              "    [theme=dark] .colab-df-convert:hover {\n",
              "      background-color: #434B5C;\n",
              "      box-shadow: 0px 1px 3px 1px rgba(0, 0, 0, 0.15);\n",
              "      filter: drop-shadow(0px 1px 2px rgba(0, 0, 0, 0.3));\n",
              "      fill: #FFFFFF;\n",
              "    }\n",
              "  </style>\n",
              "\n",
              "      <script>\n",
              "        const buttonEl =\n",
              "          document.querySelector('#df-b9d6df31-77d4-41b5-a8c8-95d93f20633c button.colab-df-convert');\n",
              "        buttonEl.style.display =\n",
              "          google.colab.kernel.accessAllowed ? 'block' : 'none';\n",
              "\n",
              "        async function convertToInteractive(key) {\n",
              "          const element = document.querySelector('#df-b9d6df31-77d4-41b5-a8c8-95d93f20633c');\n",
              "          const dataTable =\n",
              "            await google.colab.kernel.invokeFunction('convertToInteractive',\n",
              "                                                     [key], {});\n",
              "          if (!dataTable) return;\n",
              "\n",
              "          const docLinkHtml = 'Like what you see? Visit the ' +\n",
              "            '<a target=\"_blank\" href=https://colab.research.google.com/notebooks/data_table.ipynb>data table notebook</a>'\n",
              "            + ' to learn more about interactive tables.';\n",
              "          element.innerHTML = '';\n",
              "          dataTable['output_type'] = 'display_data';\n",
              "          await google.colab.output.renderOutput(dataTable, element);\n",
              "          const docLink = document.createElement('div');\n",
              "          docLink.innerHTML = docLinkHtml;\n",
              "          element.appendChild(docLink);\n",
              "        }\n",
              "      </script>\n",
              "    </div>\n",
              "  </div>\n",
              "  "
            ],
            "text/plain": [
              "     PassengerId  Survived  Pclass  ...     Fare Cabin  Embarked\n",
              "0              1         0       3  ...   7.2500   NaN         S\n",
              "1              2         1       1  ...  71.2833   C85         C\n",
              "2              3         1       3  ...   7.9250   NaN         S\n",
              "3              4         1       1  ...  53.1000  C123         S\n",
              "4              5         0       3  ...   8.0500   NaN         S\n",
              "..           ...       ...     ...  ...      ...   ...       ...\n",
              "886          887         0       2  ...  13.0000   NaN         S\n",
              "887          888         1       1  ...  30.0000   B42         S\n",
              "888          889         0       3  ...  23.4500   NaN         S\n",
              "889          890         1       1  ...  30.0000  C148         C\n",
              "890          891         0       3  ...   7.7500   NaN         Q\n",
              "\n",
              "[891 rows x 12 columns]"
            ]
          },
          "metadata": {},
          "execution_count": 40
        }
      ]
    },
    {
      "cell_type": "markdown",
      "metadata": {
        "id": "QKrCfGbSonN0"
      },
      "source": [
        "**Splitting Data**\n",
        "\n",
        "Distributions potentiellement différentes entre le training et le testing"
      ]
    },
    {
      "cell_type": "code",
      "execution_count": 41,
      "metadata": {
        "colab": {
          "base_uri": "https://localhost:8080/"
        },
        "id": "0WfmhTxko3rq",
        "outputId": "f4ef2140-f018-45ad-8f2a-9384f4f33c2c"
      },
      "outputs": [
        {
          "output_type": "execute_result",
          "data": {
            "text/plain": [
              "0    0.616162\n",
              "1    0.383838\n",
              "Name: Survived, dtype: float64"
            ]
          },
          "metadata": {},
          "execution_count": 41
        }
      ],
      "source": [
        "train_all.Survived.value_counts()/train_all.shape[0]"
      ]
    },
    {
      "cell_type": "code",
      "execution_count": 42,
      "metadata": {
        "id": "tEVJ5DNRp_qg"
      },
      "outputs": [],
      "source": [
        "from sklearn.model_selection import train_test_split\n",
        "\n",
        "X = train_all.drop('Survived', axis = 1) \n",
        "y = train_all.Survived  \n",
        "X_train, X_test, y_train, y_test = train_test_split(X, y, test_size = 0.2,random_state = 163035)"
      ]
    },
    {
      "cell_type": "code",
      "execution_count": 43,
      "metadata": {
        "colab": {
          "base_uri": "https://localhost:8080/"
        },
        "id": "fZAbfUU4qw-e",
        "outputId": "7b348393-6ed5-4a91-e0ca-cd13ffa96d1c"
      },
      "outputs": [
        {
          "output_type": "execute_result",
          "data": {
            "text/plain": [
              "0    0.577247\n",
              "1    0.422753\n",
              "Name: Survived, dtype: float64"
            ]
          },
          "metadata": {},
          "execution_count": 43
        }
      ],
      "source": [
        "y_train.value_counts() / y_train.shape[0] "
      ]
    },
    {
      "cell_type": "code",
      "execution_count": 44,
      "metadata": {
        "colab": {
          "base_uri": "https://localhost:8080/"
        },
        "id": "EXfzW2fiq66q",
        "outputId": "2f5fa2ee-aa15-4b5e-e438-9b23e10bde1a"
      },
      "outputs": [
        {
          "output_type": "execute_result",
          "data": {
            "text/plain": [
              "0    0.77095\n",
              "1    0.22905\n",
              "Name: Survived, dtype: float64"
            ]
          },
          "metadata": {},
          "execution_count": 44
        }
      ],
      "source": [
        "y_test.value_counts() / y_test.shape[0]"
      ]
    },
    {
      "cell_type": "markdown",
      "metadata": {
        "id": "FGSQ4Mn180uS"
      },
      "source": [
        "**Evaluation des différences entre distributions**"
      ]
    },
    {
      "cell_type": "code",
      "execution_count": 45,
      "metadata": {
        "colab": {
          "base_uri": "https://localhost:8080/"
        },
        "id": "es88rQEx8kaS",
        "outputId": "2993eb47-6856-4318-c279-98b655b5f247"
      },
      "outputs": [
        {
          "output_type": "stream",
          "name": "stdout",
          "text": [
            "273 0.13078275061201428\n"
          ]
        }
      ],
      "source": [
        "mn, idx, l= 0,-1,[]\n",
        "for rs in range(int(1000)):\n",
        "  X_train, X_test, y_train, y_test = train_test_split(X, y, test_size = 0.2,random_state = rs)\n",
        "  dif = abs((y_train.value_counts() / y_train.shape[0])[0] - (y_test.value_counts() / y_test.shape[0])[0])\n",
        "  l.append(dif)\n",
        "  if mn < dif :\n",
        "    idx,mn = rs,dif\n",
        "print(idx,mn)"
      ]
    },
    {
      "cell_type": "code",
      "execution_count": 46,
      "metadata": {
        "id": "qR23DRF9_tkX",
        "colab": {
          "base_uri": "https://localhost:8080/",
          "height": 265
        },
        "outputId": "6268ad7b-028f-440e-d6d7-d0fdcab4d5be"
      },
      "outputs": [
        {
          "output_type": "display_data",
          "data": {
            "image/png": "[encoded data removed]",
            "text/plain": [
              "<Figure size 432x288 with 1 Axes>"
            ]
          },
          "metadata": {
            "needs_background": "light"
          }
        }
      ],
      "source": [
        "from matplotlib import pyplot as plt\n",
        "from matplotlib.ticker import PercentFormatter\n",
        "import numpy as np \n",
        "\n",
        "plt.hist(l, bins=20,weights=np.ones(len(l)) / len(l))\n",
        "plt.gca().yaxis.set_major_formatter(PercentFormatter(1))\n",
        "plt.show()"
      ]
    },
    {
      "cell_type": "code",
      "execution_count": 47,
      "metadata": {
        "id": "hPH1nrih4TwX"
      },
      "outputs": [],
      "source": [
        "# Split avec distribution équilibrées \n",
        "X_train, X_test, y_train, y_test = train_test_split(X, y, test_size = 0.2,random_state = 20220115,stratify = y)\n"
      ]
    },
    {
      "cell_type": "code",
      "execution_count": 48,
      "metadata": {
        "id": "Ag-MZPFn4pFs",
        "colab": {
          "base_uri": "https://localhost:8080/"
        },
        "outputId": "896fc15c-8005-44d8-d363-fd13c19dd90b"
      },
      "outputs": [
        {
          "output_type": "execute_result",
          "data": {
            "text/plain": [
              "0    0.616573\n",
              "1    0.383427\n",
              "Name: Survived, dtype: float64"
            ]
          },
          "metadata": {},
          "execution_count": 48
        }
      ],
      "source": [
        "y_train.value_counts() / y_train.shape[0] "
      ]
    },
    {
      "cell_type": "code",
      "execution_count": 49,
      "metadata": {
        "id": "0wm1AM1I4rAo",
        "colab": {
          "base_uri": "https://localhost:8080/"
        },
        "outputId": "7f68e422-caed-404c-f040-eb730d1604d7"
      },
      "outputs": [
        {
          "output_type": "execute_result",
          "data": {
            "text/plain": [
              "0    0.614525\n",
              "1    0.385475\n",
              "Name: Survived, dtype: float64"
            ]
          },
          "metadata": {},
          "execution_count": 49
        }
      ],
      "source": [
        "y_test.value_counts() / y_test.shape[0]"
      ]
    },
    {
      "cell_type": "markdown",
      "metadata": {
        "id": "GRwhIL7qz-D-"
      },
      "source": [
        "**Mise en place apprentissage** \n",
        "\n",
        "Restriction aux attributs numériques et complets"
      ]
    },
    {
      "cell_type": "code",
      "execution_count": 50,
      "metadata": {
        "id": "gNYt3ObowCZY"
      },
      "outputs": [],
      "source": [
        "from sklearn.ensemble import RandomForestClassifier \n",
        "from sklearn.metrics import accuracy_score  \n",
        "X = X[['Pclass', 'Sex', 'SibSp', 'Fare']]  "
      ]
    },
    {
      "cell_type": "code",
      "source": [
        "X"
      ],
      "metadata": {
        "colab": {
          "base_uri": "https://localhost:8080/",
          "height": 424
        },
        "id": "d1P7O-7HN-8n",
        "outputId": "3ea72a16-8f6f-4959-8d22-40aa90d6495f"
      },
      "execution_count": 51,
      "outputs": [
        {
          "output_type": "execute_result",
          "data": {
            "text/html": [
              "\n",
              "  <div id=\"df-feb8dca9-f09e-44f5-bf3a-0aed995bc7be\">\n",
              "    <div class=\"colab-df-container\">\n",
              "      <div>\n",
              "<style scoped>\n",
              "    .dataframe tbody tr th:only-of-type {\n",
              "        vertical-align: middle;\n",
              "    }\n",
              "\n",
              "    .dataframe tbody tr th {\n",
              "        vertical-align: top;\n",
              "    }\n",
              "\n",
              "    .dataframe thead th {\n",
              "        text-align: right;\n",
              "    }\n",
              "</style>\n",
              "<table border=\"1\" class=\"dataframe\">\n",
              "  <thead>\n",
              "    <tr style=\"text-align: right;\">\n",
              "      <th></th>\n",
              "      <th>Pclass</th>\n",
              "      <th>Sex</th>\n",
              "      <th>SibSp</th>\n",
              "      <th>Fare</th>\n",
              "    </tr>\n",
              "  </thead>\n",
              "  <tbody>\n",
              "    <tr>\n",
              "      <th>0</th>\n",
              "      <td>3</td>\n",
              "      <td>male</td>\n",
              "      <td>1</td>\n",
              "      <td>7.2500</td>\n",
              "    </tr>\n",
              "    <tr>\n",
              "      <th>1</th>\n",
              "      <td>1</td>\n",
              "      <td>female</td>\n",
              "      <td>1</td>\n",
              "      <td>71.2833</td>\n",
              "    </tr>\n",
              "    <tr>\n",
              "      <th>2</th>\n",
              "      <td>3</td>\n",
              "      <td>female</td>\n",
              "      <td>0</td>\n",
              "      <td>7.9250</td>\n",
              "    </tr>\n",
              "    <tr>\n",
              "      <th>3</th>\n",
              "      <td>1</td>\n",
              "      <td>female</td>\n",
              "      <td>1</td>\n",
              "      <td>53.1000</td>\n",
              "    </tr>\n",
              "    <tr>\n",
              "      <th>4</th>\n",
              "      <td>3</td>\n",
              "      <td>male</td>\n",
              "      <td>0</td>\n",
              "      <td>8.0500</td>\n",
              "    </tr>\n",
              "    <tr>\n",
              "      <th>...</th>\n",
              "      <td>...</td>\n",
              "      <td>...</td>\n",
              "      <td>...</td>\n",
              "      <td>...</td>\n",
              "    </tr>\n",
              "    <tr>\n",
              "      <th>886</th>\n",
              "      <td>2</td>\n",
              "      <td>male</td>\n",
              "      <td>0</td>\n",
              "      <td>13.0000</td>\n",
              "    </tr>\n",
              "    <tr>\n",
              "      <th>887</th>\n",
              "      <td>1</td>\n",
              "      <td>female</td>\n",
              "      <td>0</td>\n",
              "      <td>30.0000</td>\n",
              "    </tr>\n",
              "    <tr>\n",
              "      <th>888</th>\n",
              "      <td>3</td>\n",
              "      <td>female</td>\n",
              "      <td>1</td>\n",
              "      <td>23.4500</td>\n",
              "    </tr>\n",
              "    <tr>\n",
              "      <th>889</th>\n",
              "      <td>1</td>\n",
              "      <td>male</td>\n",
              "      <td>0</td>\n",
              "      <td>30.0000</td>\n",
              "    </tr>\n",
              "    <tr>\n",
              "      <th>890</th>\n",
              "      <td>3</td>\n",
              "      <td>male</td>\n",
              "      <td>0</td>\n",
              "      <td>7.7500</td>\n",
              "    </tr>\n",
              "  </tbody>\n",
              "</table>\n",
              "<p>891 rows × 4 columns</p>\n",
              "</div>\n",
              "      <button class=\"colab-df-convert\" onclick=\"convertToInteractive('df-feb8dca9-f09e-44f5-bf3a-0aed995bc7be')\"\n",
              "              title=\"Convert this dataframe to an interactive table.\"\n",
              "              style=\"display:none;\">\n",
              "        \n",
              "  <svg xmlns=\"http://www.w3.org/2000/svg\" height=\"24px\"viewBox=\"0 0 24 24\"\n",
              "       width=\"24px\">\n",
              "    <path d=\"M0 0h24v24H0V0z\" fill=\"none\"/>\n",
              "    <path d=\"M18.56 5.44l.94 2.06.94-2.06 2.06-.94-2.06-.94-.94-2.06-.94 2.06-2.06.94zm-11 1L8.5 8.5l.94-2.06 2.06-.94-2.06-.94L8.5 2.5l-.94 2.06-2.06.94zm10 10l.94 2.06.94-2.06 2.06-.94-2.06-.94-.94-2.06-.94 2.06-2.06.94z\"/><path d=\"M17.41 7.96l-1.37-1.37c-.4-.4-.92-.59-1.43-.59-.52 0-1.04.2-1.43.59L10.3 9.45l-7.72 7.72c-.78.78-.78 2.05 0 2.83L4 21.41c.39.39.9.59 1.41.59.51 0 1.02-.2 1.41-.59l7.78-7.78 2.81-2.81c.8-.78.8-2.07 0-2.86zM5.41 20L4 18.59l7.72-7.72 1.47 1.35L5.41 20z\"/>\n",
              "  </svg>\n",
              "      </button>\n",
              "      \n",
              "  <style>\n",
              "    .colab-df-container {\n",
              "      display:flex;\n",
              "      flex-wrap:wrap;\n",
              "      gap: 12px;\n",
              "    }\n",
              "\n",
              "    .colab-df-convert {\n",
              "      background-color: #E8F0FE;\n",
              "      border: none;\n",
              "      border-radius: 50%;\n",
              "      cursor: pointer;\n",
              "      display: none;\n",
              "      fill: #1967D2;\n",
              "      height: 32px;\n",
              "      padding: 0 0 0 0;\n",
              "      width: 32px;\n",
              "    }\n",
              "\n",
              "    .colab-df-convert:hover {\n",
              "      background-color: #E2EBFA;\n",
              "      box-shadow: 0px 1px 2px rgba(60, 64, 67, 0.3), 0px 1px 3px 1px rgba(60, 64, 67, 0.15);\n",
              "      fill: #174EA6;\n",
              "    }\n",
              "\n",
              "    [theme=dark] .colab-df-convert {\n",
              "      background-color: #3B4455;\n",
              "      fill: #D2E3FC;\n",
              "    }\n",
              "\n",
              "    [theme=dark] .colab-df-convert:hover {\n",
              "      background-color: #434B5C;\n",
              "      box-shadow: 0px 1px 3px 1px rgba(0, 0, 0, 0.15);\n",
              "      filter: drop-shadow(0px 1px 2px rgba(0, 0, 0, 0.3));\n",
              "      fill: #FFFFFF;\n",
              "    }\n",
              "  </style>\n",
              "\n",
              "      <script>\n",
              "        const buttonEl =\n",
              "          document.querySelector('#df-feb8dca9-f09e-44f5-bf3a-0aed995bc7be button.colab-df-convert');\n",
              "        buttonEl.style.display =\n",
              "          google.colab.kernel.accessAllowed ? 'block' : 'none';\n",
              "\n",
              "        async function convertToInteractive(key) {\n",
              "          const element = document.querySelector('#df-feb8dca9-f09e-44f5-bf3a-0aed995bc7be');\n",
              "          const dataTable =\n",
              "            await google.colab.kernel.invokeFunction('convertToInteractive',\n",
              "                                                     [key], {});\n",
              "          if (!dataTable) return;\n",
              "\n",
              "          const docLinkHtml = 'Like what you see? Visit the ' +\n",
              "            '<a target=\"_blank\" href=https://colab.research.google.com/notebooks/data_table.ipynb>data table notebook</a>'\n",
              "            + ' to learn more about interactive tables.';\n",
              "          element.innerHTML = '';\n",
              "          dataTable['output_type'] = 'display_data';\n",
              "          await google.colab.output.renderOutput(dataTable, element);\n",
              "          const docLink = document.createElement('div');\n",
              "          docLink.innerHTML = docLinkHtml;\n",
              "          element.appendChild(docLink);\n",
              "        }\n",
              "      </script>\n",
              "    </div>\n",
              "  </div>\n",
              "  "
            ],
            "text/plain": [
              "     Pclass     Sex  SibSp     Fare\n",
              "0         3    male      1   7.2500\n",
              "1         1  female      1  71.2833\n",
              "2         3  female      0   7.9250\n",
              "3         1  female      1  53.1000\n",
              "4         3    male      0   8.0500\n",
              "..      ...     ...    ...      ...\n",
              "886       2    male      0  13.0000\n",
              "887       1  female      0  30.0000\n",
              "888       3  female      1  23.4500\n",
              "889       1    male      0  30.0000\n",
              "890       3    male      0   7.7500\n",
              "\n",
              "[891 rows x 4 columns]"
            ]
          },
          "metadata": {},
          "execution_count": 51
        }
      ]
    },
    {
      "cell_type": "markdown",
      "metadata": {
        "id": "LeEuc4GN45Hr"
      },
      "source": [
        "Transforamtion female->1, male->0 "
      ]
    },
    {
      "cell_type": "code",
      "execution_count": 52,
      "metadata": {
        "id": "1O5HduzQ1Z04",
        "colab": {
          "base_uri": "https://localhost:8080/",
          "height": 548
        },
        "outputId": "923ee8d0-980f-4cde-a945-b13135e37588"
      },
      "outputs": [
        {
          "output_type": "stream",
          "name": "stderr",
          "text": [
            "/usr/local/lib/python3.7/dist-packages/ipykernel_launcher.py:2: SettingWithCopyWarning: \n",
            "A value is trying to be set on a copy of a slice from a DataFrame.\n",
            "Try using .loc[row_indexer,col_indexer] = value instead\n",
            "\n",
            "See the caveats in the documentation: https://pandas.pydata.org/pandas-docs/stable/user_guide/indexing.html#returning-a-view-versus-a-copy\n",
            "  \n"
          ]
        },
        {
          "output_type": "execute_result",
          "data": {
            "text/html": [
              "\n",
              "  <div id=\"df-cb7427dc-3b5a-4bda-a215-99423be8482c\">\n",
              "    <div class=\"colab-df-container\">\n",
              "      <div>\n",
              "<style scoped>\n",
              "    .dataframe tbody tr th:only-of-type {\n",
              "        vertical-align: middle;\n",
              "    }\n",
              "\n",
              "    .dataframe tbody tr th {\n",
              "        vertical-align: top;\n",
              "    }\n",
              "\n",
              "    .dataframe thead th {\n",
              "        text-align: right;\n",
              "    }\n",
              "</style>\n",
              "<table border=\"1\" class=\"dataframe\">\n",
              "  <thead>\n",
              "    <tr style=\"text-align: right;\">\n",
              "      <th></th>\n",
              "      <th>Pclass</th>\n",
              "      <th>SibSp</th>\n",
              "      <th>Fare</th>\n",
              "      <th>gender_dummy</th>\n",
              "    </tr>\n",
              "  </thead>\n",
              "  <tbody>\n",
              "    <tr>\n",
              "      <th>0</th>\n",
              "      <td>3</td>\n",
              "      <td>1</td>\n",
              "      <td>7.2500</td>\n",
              "      <td>0</td>\n",
              "    </tr>\n",
              "    <tr>\n",
              "      <th>1</th>\n",
              "      <td>1</td>\n",
              "      <td>1</td>\n",
              "      <td>71.2833</td>\n",
              "      <td>1</td>\n",
              "    </tr>\n",
              "    <tr>\n",
              "      <th>2</th>\n",
              "      <td>3</td>\n",
              "      <td>0</td>\n",
              "      <td>7.9250</td>\n",
              "      <td>1</td>\n",
              "    </tr>\n",
              "    <tr>\n",
              "      <th>3</th>\n",
              "      <td>1</td>\n",
              "      <td>1</td>\n",
              "      <td>53.1000</td>\n",
              "      <td>1</td>\n",
              "    </tr>\n",
              "    <tr>\n",
              "      <th>4</th>\n",
              "      <td>3</td>\n",
              "      <td>0</td>\n",
              "      <td>8.0500</td>\n",
              "      <td>0</td>\n",
              "    </tr>\n",
              "    <tr>\n",
              "      <th>...</th>\n",
              "      <td>...</td>\n",
              "      <td>...</td>\n",
              "      <td>...</td>\n",
              "      <td>...</td>\n",
              "    </tr>\n",
              "    <tr>\n",
              "      <th>886</th>\n",
              "      <td>2</td>\n",
              "      <td>0</td>\n",
              "      <td>13.0000</td>\n",
              "      <td>0</td>\n",
              "    </tr>\n",
              "    <tr>\n",
              "      <th>887</th>\n",
              "      <td>1</td>\n",
              "      <td>0</td>\n",
              "      <td>30.0000</td>\n",
              "      <td>1</td>\n",
              "    </tr>\n",
              "    <tr>\n",
              "      <th>888</th>\n",
              "      <td>3</td>\n",
              "      <td>1</td>\n",
              "      <td>23.4500</td>\n",
              "      <td>1</td>\n",
              "    </tr>\n",
              "    <tr>\n",
              "      <th>889</th>\n",
              "      <td>1</td>\n",
              "      <td>0</td>\n",
              "      <td>30.0000</td>\n",
              "      <td>0</td>\n",
              "    </tr>\n",
              "    <tr>\n",
              "      <th>890</th>\n",
              "      <td>3</td>\n",
              "      <td>0</td>\n",
              "      <td>7.7500</td>\n",
              "      <td>0</td>\n",
              "    </tr>\n",
              "  </tbody>\n",
              "</table>\n",
              "<p>891 rows × 4 columns</p>\n",
              "</div>\n",
              "      <button class=\"colab-df-convert\" onclick=\"convertToInteractive('df-cb7427dc-3b5a-4bda-a215-99423be8482c')\"\n",
              "              title=\"Convert this dataframe to an interactive table.\"\n",
              "              style=\"display:none;\">\n",
              "        \n",
              "  <svg xmlns=\"http://www.w3.org/2000/svg\" height=\"24px\"viewBox=\"0 0 24 24\"\n",
              "       width=\"24px\">\n",
              "    <path d=\"M0 0h24v24H0V0z\" fill=\"none\"/>\n",
              "    <path d=\"M18.56 5.44l.94 2.06.94-2.06 2.06-.94-2.06-.94-.94-2.06-.94 2.06-2.06.94zm-11 1L8.5 8.5l.94-2.06 2.06-.94-2.06-.94L8.5 2.5l-.94 2.06-2.06.94zm10 10l.94 2.06.94-2.06 2.06-.94-2.06-.94-.94-2.06-.94 2.06-2.06.94z\"/><path d=\"M17.41 7.96l-1.37-1.37c-.4-.4-.92-.59-1.43-.59-.52 0-1.04.2-1.43.59L10.3 9.45l-7.72 7.72c-.78.78-.78 2.05 0 2.83L4 21.41c.39.39.9.59 1.41.59.51 0 1.02-.2 1.41-.59l7.78-7.78 2.81-2.81c.8-.78.8-2.07 0-2.86zM5.41 20L4 18.59l7.72-7.72 1.47 1.35L5.41 20z\"/>\n",
              "  </svg>\n",
              "      </button>\n",
              "      \n",
              "  <style>\n",
              "    .colab-df-container {\n",
              "      display:flex;\n",
              "      flex-wrap:wrap;\n",
              "      gap: 12px;\n",
              "    }\n",
              "\n",
              "    .colab-df-convert {\n",
              "      background-color: #E8F0FE;\n",
              "      border: none;\n",
              "      border-radius: 50%;\n",
              "      cursor: pointer;\n",
              "      display: none;\n",
              "      fill: #1967D2;\n",
              "      height: 32px;\n",
              "      padding: 0 0 0 0;\n",
              "      width: 32px;\n",
              "    }\n",
              "\n",
              "    .colab-df-convert:hover {\n",
              "      background-color: #E2EBFA;\n",
              "      box-shadow: 0px 1px 2px rgba(60, 64, 67, 0.3), 0px 1px 3px 1px rgba(60, 64, 67, 0.15);\n",
              "      fill: #174EA6;\n",
              "    }\n",
              "\n",
              "    [theme=dark] .colab-df-convert {\n",
              "      background-color: #3B4455;\n",
              "      fill: #D2E3FC;\n",
              "    }\n",
              "\n",
              "    [theme=dark] .colab-df-convert:hover {\n",
              "      background-color: #434B5C;\n",
              "      box-shadow: 0px 1px 3px 1px rgba(0, 0, 0, 0.15);\n",
              "      filter: drop-shadow(0px 1px 2px rgba(0, 0, 0, 0.3));\n",
              "      fill: #FFFFFF;\n",
              "    }\n",
              "  </style>\n",
              "\n",
              "      <script>\n",
              "        const buttonEl =\n",
              "          document.querySelector('#df-cb7427dc-3b5a-4bda-a215-99423be8482c button.colab-df-convert');\n",
              "        buttonEl.style.display =\n",
              "          google.colab.kernel.accessAllowed ? 'block' : 'none';\n",
              "\n",
              "        async function convertToInteractive(key) {\n",
              "          const element = document.querySelector('#df-cb7427dc-3b5a-4bda-a215-99423be8482c');\n",
              "          const dataTable =\n",
              "            await google.colab.kernel.invokeFunction('convertToInteractive',\n",
              "                                                     [key], {});\n",
              "          if (!dataTable) return;\n",
              "\n",
              "          const docLinkHtml = 'Like what you see? Visit the ' +\n",
              "            '<a target=\"_blank\" href=https://colab.research.google.com/notebooks/data_table.ipynb>data table notebook</a>'\n",
              "            + ' to learn more about interactive tables.';\n",
              "          element.innerHTML = '';\n",
              "          dataTable['output_type'] = 'display_data';\n",
              "          await google.colab.output.renderOutput(dataTable, element);\n",
              "          const docLink = document.createElement('div');\n",
              "          docLink.innerHTML = docLinkHtml;\n",
              "          element.appendChild(docLink);\n",
              "        }\n",
              "      </script>\n",
              "    </div>\n",
              "  </div>\n",
              "  "
            ],
            "text/plain": [
              "     Pclass  SibSp     Fare  gender_dummy\n",
              "0         3      1   7.2500             0\n",
              "1         1      1  71.2833             1\n",
              "2         3      0   7.9250             1\n",
              "3         1      1  53.1000             1\n",
              "4         3      0   8.0500             0\n",
              "..      ...    ...      ...           ...\n",
              "886       2      0  13.0000             0\n",
              "887       1      0  30.0000             1\n",
              "888       3      1  23.4500             1\n",
              "889       1      0  30.0000             0\n",
              "890       3      0   7.7500             0\n",
              "\n",
              "[891 rows x 4 columns]"
            ]
          },
          "metadata": {},
          "execution_count": 52
        }
      ],
      "source": [
        "# The “Sex” variable is a string and needs to be one-hot encoded \n",
        "X['gender_dummy'] = pd.get_dummies(X.Sex)['female'] \n",
        "X = X.drop(['Sex'], axis = 1) \n",
        "X"
      ]
    },
    {
      "cell_type": "code",
      "source": [
        "X_train, X_test, y_train, y_test = train_test_split(X, y, test_size = 0.2, random_state = 20220115, stratify = y)"
      ],
      "metadata": {
        "id": "-QT5J2HHOHfX"
      },
      "execution_count": 53,
      "outputs": []
    },
    {
      "cell_type": "markdown",
      "metadata": {
        "id": "hpVShM5b0LPY"
      },
      "source": [
        "**Première évaluation de l'apprentissage**\n",
        "\n",
        "avec random_state fixé"
      ]
    },
    {
      "cell_type": "code",
      "execution_count": 54,
      "metadata": {
        "id": "SZKeN3SYxwzz"
      },
      "outputs": [],
      "source": [
        "clf = RandomForestClassifier(n_estimators = 50, random_state = 0) \n",
        "clf = clf.fit(X_train, y_train)\n",
        "preds = clf.predict(X_test) \n",
        " "
      ]
    },
    {
      "cell_type": "code",
      "source": [
        "X_test"
      ],
      "metadata": {
        "colab": {
          "base_uri": "https://localhost:8080/",
          "height": 424
        },
        "id": "xc_sL_KaPIxn",
        "outputId": "54031525-04f4-4379-e51f-165bc288f124"
      },
      "execution_count": 55,
      "outputs": [
        {
          "output_type": "execute_result",
          "data": {
            "text/html": [
              "\n",
              "  <div id=\"df-c150325a-014a-4e9b-bcb7-bcf9fcb73980\">\n",
              "    <div class=\"colab-df-container\">\n",
              "      <div>\n",
              "<style scoped>\n",
              "    .dataframe tbody tr th:only-of-type {\n",
              "        vertical-align: middle;\n",
              "    }\n",
              "\n",
              "    .dataframe tbody tr th {\n",
              "        vertical-align: top;\n",
              "    }\n",
              "\n",
              "    .dataframe thead th {\n",
              "        text-align: right;\n",
              "    }\n",
              "</style>\n",
              "<table border=\"1\" class=\"dataframe\">\n",
              "  <thead>\n",
              "    <tr style=\"text-align: right;\">\n",
              "      <th></th>\n",
              "      <th>Pclass</th>\n",
              "      <th>SibSp</th>\n",
              "      <th>Fare</th>\n",
              "      <th>gender_dummy</th>\n",
              "    </tr>\n",
              "  </thead>\n",
              "  <tbody>\n",
              "    <tr>\n",
              "      <th>880</th>\n",
              "      <td>2</td>\n",
              "      <td>0</td>\n",
              "      <td>26.0000</td>\n",
              "      <td>1</td>\n",
              "    </tr>\n",
              "    <tr>\n",
              "      <th>815</th>\n",
              "      <td>1</td>\n",
              "      <td>0</td>\n",
              "      <td>0.0000</td>\n",
              "      <td>0</td>\n",
              "    </tr>\n",
              "    <tr>\n",
              "      <th>636</th>\n",
              "      <td>3</td>\n",
              "      <td>0</td>\n",
              "      <td>7.9250</td>\n",
              "      <td>0</td>\n",
              "    </tr>\n",
              "    <tr>\n",
              "      <th>523</th>\n",
              "      <td>1</td>\n",
              "      <td>0</td>\n",
              "      <td>57.9792</td>\n",
              "      <td>1</td>\n",
              "    </tr>\n",
              "    <tr>\n",
              "      <th>86</th>\n",
              "      <td>3</td>\n",
              "      <td>1</td>\n",
              "      <td>34.3750</td>\n",
              "      <td>0</td>\n",
              "    </tr>\n",
              "    <tr>\n",
              "      <th>...</th>\n",
              "      <td>...</td>\n",
              "      <td>...</td>\n",
              "      <td>...</td>\n",
              "      <td>...</td>\n",
              "    </tr>\n",
              "    <tr>\n",
              "      <th>676</th>\n",
              "      <td>3</td>\n",
              "      <td>0</td>\n",
              "      <td>8.0500</td>\n",
              "      <td>0</td>\n",
              "    </tr>\n",
              "    <tr>\n",
              "      <th>736</th>\n",
              "      <td>3</td>\n",
              "      <td>1</td>\n",
              "      <td>34.3750</td>\n",
              "      <td>1</td>\n",
              "    </tr>\n",
              "    <tr>\n",
              "      <th>53</th>\n",
              "      <td>2</td>\n",
              "      <td>1</td>\n",
              "      <td>26.0000</td>\n",
              "      <td>1</td>\n",
              "    </tr>\n",
              "    <tr>\n",
              "      <th>715</th>\n",
              "      <td>3</td>\n",
              "      <td>0</td>\n",
              "      <td>7.6500</td>\n",
              "      <td>0</td>\n",
              "    </tr>\n",
              "    <tr>\n",
              "      <th>670</th>\n",
              "      <td>2</td>\n",
              "      <td>1</td>\n",
              "      <td>39.0000</td>\n",
              "      <td>1</td>\n",
              "    </tr>\n",
              "  </tbody>\n",
              "</table>\n",
              "<p>179 rows × 4 columns</p>\n",
              "</div>\n",
              "      <button class=\"colab-df-convert\" onclick=\"convertToInteractive('df-c150325a-014a-4e9b-bcb7-bcf9fcb73980')\"\n",
              "              title=\"Convert this dataframe to an interactive table.\"\n",
              "              style=\"display:none;\">\n",
              "        \n",
              "  <svg xmlns=\"http://www.w3.org/2000/svg\" height=\"24px\"viewBox=\"0 0 24 24\"\n",
              "       width=\"24px\">\n",
              "    <path d=\"M0 0h24v24H0V0z\" fill=\"none\"/>\n",
              "    <path d=\"M18.56 5.44l.94 2.06.94-2.06 2.06-.94-2.06-.94-.94-2.06-.94 2.06-2.06.94zm-11 1L8.5 8.5l.94-2.06 2.06-.94-2.06-.94L8.5 2.5l-.94 2.06-2.06.94zm10 10l.94 2.06.94-2.06 2.06-.94-2.06-.94-.94-2.06-.94 2.06-2.06.94z\"/><path d=\"M17.41 7.96l-1.37-1.37c-.4-.4-.92-.59-1.43-.59-.52 0-1.04.2-1.43.59L10.3 9.45l-7.72 7.72c-.78.78-.78 2.05 0 2.83L4 21.41c.39.39.9.59 1.41.59.51 0 1.02-.2 1.41-.59l7.78-7.78 2.81-2.81c.8-.78.8-2.07 0-2.86zM5.41 20L4 18.59l7.72-7.72 1.47 1.35L5.41 20z\"/>\n",
              "  </svg>\n",
              "      </button>\n",
              "      \n",
              "  <style>\n",
              "    .colab-df-container {\n",
              "      display:flex;\n",
              "      flex-wrap:wrap;\n",
              "      gap: 12px;\n",
              "    }\n",
              "\n",
              "    .colab-df-convert {\n",
              "      background-color: #E8F0FE;\n",
              "      border: none;\n",
              "      border-radius: 50%;\n",
              "      cursor: pointer;\n",
              "      display: none;\n",
              "      fill: #1967D2;\n",
              "      height: 32px;\n",
              "      padding: 0 0 0 0;\n",
              "      width: 32px;\n",
              "    }\n",
              "\n",
              "    .colab-df-convert:hover {\n",
              "      background-color: #E2EBFA;\n",
              "      box-shadow: 0px 1px 2px rgba(60, 64, 67, 0.3), 0px 1px 3px 1px rgba(60, 64, 67, 0.15);\n",
              "      fill: #174EA6;\n",
              "    }\n",
              "\n",
              "    [theme=dark] .colab-df-convert {\n",
              "      background-color: #3B4455;\n",
              "      fill: #D2E3FC;\n",
              "    }\n",
              "\n",
              "    [theme=dark] .colab-df-convert:hover {\n",
              "      background-color: #434B5C;\n",
              "      box-shadow: 0px 1px 3px 1px rgba(0, 0, 0, 0.15);\n",
              "      filter: drop-shadow(0px 1px 2px rgba(0, 0, 0, 0.3));\n",
              "      fill: #FFFFFF;\n",
              "    }\n",
              "  </style>\n",
              "\n",
              "      <script>\n",
              "        const buttonEl =\n",
              "          document.querySelector('#df-c150325a-014a-4e9b-bcb7-bcf9fcb73980 button.colab-df-convert');\n",
              "        buttonEl.style.display =\n",
              "          google.colab.kernel.accessAllowed ? 'block' : 'none';\n",
              "\n",
              "        async function convertToInteractive(key) {\n",
              "          const element = document.querySelector('#df-c150325a-014a-4e9b-bcb7-bcf9fcb73980');\n",
              "          const dataTable =\n",
              "            await google.colab.kernel.invokeFunction('convertToInteractive',\n",
              "                                                     [key], {});\n",
              "          if (!dataTable) return;\n",
              "\n",
              "          const docLinkHtml = 'Like what you see? Visit the ' +\n",
              "            '<a target=\"_blank\" href=https://colab.research.google.com/notebooks/data_table.ipynb>data table notebook</a>'\n",
              "            + ' to learn more about interactive tables.';\n",
              "          element.innerHTML = '';\n",
              "          dataTable['output_type'] = 'display_data';\n",
              "          await google.colab.output.renderOutput(dataTable, element);\n",
              "          const docLink = document.createElement('div');\n",
              "          docLink.innerHTML = docLinkHtml;\n",
              "          element.appendChild(docLink);\n",
              "        }\n",
              "      </script>\n",
              "    </div>\n",
              "  </div>\n",
              "  "
            ],
            "text/plain": [
              "     Pclass  SibSp     Fare  gender_dummy\n",
              "880       2      0  26.0000             1\n",
              "815       1      0   0.0000             0\n",
              "636       3      0   7.9250             0\n",
              "523       1      0  57.9792             1\n",
              "86        3      1  34.3750             0\n",
              "..      ...    ...      ...           ...\n",
              "676       3      0   8.0500             0\n",
              "736       3      1  34.3750             1\n",
              "53        2      1  26.0000             1\n",
              "715       3      0   7.6500             0\n",
              "670       2      1  39.0000             1\n",
              "\n",
              "[179 rows x 4 columns]"
            ]
          },
          "metadata": {},
          "execution_count": 55
        }
      ]
    },
    {
      "cell_type": "code",
      "source": [
        "predi = clf.predict([[2, \t0, \t25.0000, \t0]])"
      ],
      "metadata": {
        "colab": {
          "base_uri": "https://localhost:8080/"
        },
        "id": "rZScsZ9UPR6Q",
        "outputId": "881be7ac-66ea-4a92-905e-a4f26594bda1"
      },
      "execution_count": 56,
      "outputs": [
        {
          "output_type": "stream",
          "name": "stderr",
          "text": [
            "/usr/local/lib/python3.7/dist-packages/sklearn/base.py:451: UserWarning: X does not have valid feature names, but RandomForestClassifier was fitted with feature names\n",
            "  \"X does not have valid feature names, but\"\n"
          ]
        }
      ]
    },
    {
      "cell_type": "code",
      "source": [
        "y_test"
      ],
      "metadata": {
        "colab": {
          "base_uri": "https://localhost:8080/"
        },
        "id": "4dsEA4W9QSpb",
        "outputId": "5eb8134e-0b6f-465b-e090-74422114cc2e"
      },
      "execution_count": 57,
      "outputs": [
        {
          "output_type": "execute_result",
          "data": {
            "text/plain": [
              "880    1\n",
              "815    0\n",
              "636    0\n",
              "523    1\n",
              "86     0\n",
              "      ..\n",
              "676    0\n",
              "736    0\n",
              "53     1\n",
              "715    0\n",
              "670    1\n",
              "Name: Survived, Length: 179, dtype: int64"
            ]
          },
          "metadata": {},
          "execution_count": 57
        }
      ]
    },
    {
      "cell_type": "code",
      "source": [
        "preds"
      ],
      "metadata": {
        "id": "QOuorJ0nQYy5",
        "outputId": "05a9a9d5-142d-4b68-f951-92aa3dcda936",
        "colab": {
          "base_uri": "https://localhost:8080/"
        }
      },
      "execution_count": 58,
      "outputs": [
        {
          "output_type": "execute_result",
          "data": {
            "text/plain": [
              "array([1, 0, 1, 1, 0, 0, 1, 0, 0, 1, 1, 0, 1, 0, 1, 0, 1, 0, 1, 0, 0, 0,\n",
              "       0, 0, 0, 0, 0, 0, 1, 0, 0, 0, 1, 0, 1, 0, 1, 0, 0, 0, 0, 1, 1, 0,\n",
              "       1, 0, 0, 0, 1, 0, 0, 0, 1, 0, 1, 0, 1, 1, 1, 0, 0, 1, 0, 0, 1, 1,\n",
              "       1, 0, 1, 0, 1, 0, 1, 0, 0, 1, 0, 1, 1, 0, 0, 0, 0, 0, 1, 0, 0, 0,\n",
              "       0, 0, 0, 1, 0, 0, 1, 0, 0, 1, 0, 0, 0, 1, 1, 0, 0, 0, 0, 0, 0, 1,\n",
              "       1, 0, 1, 1, 0, 1, 0, 1, 1, 0, 0, 1, 0, 1, 0, 0, 1, 0, 0, 1, 0, 0,\n",
              "       0, 0, 1, 1, 0, 0, 0, 0, 0, 1, 0, 1, 1, 0, 0, 0, 0, 0, 0, 0, 1, 0,\n",
              "       0, 1, 1, 1, 0, 0, 1, 0, 0, 1, 0, 0, 0, 0, 0, 0, 0, 1, 1, 1, 0, 0,\n",
              "       1, 0, 1])"
            ]
          },
          "metadata": {},
          "execution_count": 58
        }
      ]
    },
    {
      "cell_type": "code",
      "source": [
        " \n",
        "round(accuracy_score(y_true = y_test, y_pred = preds), 3)"
      ],
      "metadata": {
        "colab": {
          "base_uri": "https://localhost:8080/"
        },
        "id": "XP7vDh4NO-do",
        "outputId": "c2aa4134-260e-447d-d20f-6f332929e72b"
      },
      "execution_count": 59,
      "outputs": [
        {
          "output_type": "execute_result",
          "data": {
            "text/plain": [
              "0.793"
            ]
          },
          "metadata": {},
          "execution_count": 59
        }
      ]
    },
    {
      "cell_type": "code",
      "execution_count": 60,
      "metadata": {
        "id": "kooQvE5cCUSk",
        "colab": {
          "base_uri": "https://localhost:8080/"
        },
        "outputId": "8c0afb72-60cf-49e4-cafd-b19147147f26"
      },
      "outputs": [
        {
          "output_type": "stream",
          "name": "stdout",
          "text": [
            "80 0.8044692737430168\n"
          ]
        }
      ],
      "source": [
        "mne = 0\n",
        "idxe=-1\n",
        "leclf=[]\n",
        "for rs in range(int(1000)):\n",
        "  clf = RandomForestClassifier(n_estimators = 50, random_state = rs) \n",
        "  clf = clf.fit(X_train, y_train)  \n",
        "  preds = clf.predict(X_test)  \n",
        "  sc = accuracy_score(y_true = y_test, y_pred = preds)\n",
        "  leclf.append(sc)\n",
        "  if sc > mne :\n",
        "    idx = rs\n",
        "    mne = sc\n",
        "\n",
        "print(idx,mne)"
      ]
    },
    {
      "cell_type": "code",
      "execution_count": 61,
      "metadata": {
        "id": "G7hDcLl-xgp3",
        "colab": {
          "base_uri": "https://localhost:8080/",
          "height": 265
        },
        "outputId": "7ab3fe9e-9d79-49ba-d5de-ea7c483fe8a2"
      },
      "outputs": [
        {
          "output_type": "display_data",
          "data": {
            "image/png": "[encoded data removed]",
            "text/plain": [
              "<Figure size 432x288 with 1 Axes>"
            ]
          },
          "metadata": {
            "needs_background": "light"
          }
        }
      ],
      "source": [
        "from matplotlib import pyplot as plt\n",
        "from matplotlib.ticker import PercentFormatter\n",
        "import numpy as np \n",
        "\n",
        "plt.hist(leclf,weights=np.ones(len(leclf)) / len(leclf))\n",
        "plt.gca().yaxis.set_major_formatter(PercentFormatter(1))\n",
        "plt.show()"
      ]
    },
    {
      "cell_type": "code",
      "source": [
        "# moyenne et ecart type\n",
        "res_series = pd.Series(leclf)\n",
        "res_series.describe()"
      ],
      "metadata": {
        "colab": {
          "base_uri": "https://localhost:8080/"
        },
        "id": "5-NRWrif4t2l",
        "outputId": "bd4ed6a1-56d8-451b-d73d-cf22663e7eac"
      },
      "execution_count": 62,
      "outputs": [
        {
          "output_type": "execute_result",
          "data": {
            "text/plain": [
              "count    1000.000000\n",
              "mean        0.783832\n",
              "std         0.006919\n",
              "min         0.765363\n",
              "25%         0.776536\n",
              "50%         0.782123\n",
              "75%         0.787709\n",
              "max         0.804469\n",
              "dtype: float64"
            ]
          },
          "metadata": {},
          "execution_count": 62
        }
      ]
    },
    {
      "cell_type": "markdown",
      "metadata": {
        "id": "GIbkQvqyp2af"
      },
      "source": [
        "**Mise en place d'une démarche de PVP**\n",
        "\n",
        "Utilisation de la version PVP de random forest de difprivlib avec import de bibliothèque"
      ]
    },
    {
      "cell_type": "code",
      "execution_count": 66,
      "metadata": {
        "id": "9T0P-tIqrJ2a",
        "colab": {
          "base_uri": "https://localhost:8080/"
        },
        "outputId": "edc74f4c-9b3f-4fc4-ea4a-49b18f0ab854"
      },
      "outputs": [
        {
          "output_type": "stream",
          "name": "stdout",
          "text": [
            "Requirement already satisfied: diffprivlib in /usr/local/lib/python3.7/dist-packages (0.5.1)\n",
            "Requirement already satisfied: scipy>=1.5.0 in /usr/local/lib/python3.7/dist-packages (from diffprivlib) (1.7.3)\n",
            "Requirement already satisfied: numpy>=1.19.0 in /usr/local/lib/python3.7/dist-packages (from diffprivlib) (1.19.5)\n",
            "Requirement already satisfied: setuptools>=49.0.0 in /usr/local/lib/python3.7/dist-packages (from diffprivlib) (57.4.0)\n",
            "Requirement already satisfied: scikit-learn>=0.23.0 in /usr/local/lib/python3.7/dist-packages (from diffprivlib) (1.0.2)\n",
            "Requirement already satisfied: joblib>=0.16.0 in /usr/local/lib/python3.7/dist-packages (from diffprivlib) (1.1.0)\n",
            "Requirement already satisfied: threadpoolctl>=2.0.0 in /usr/local/lib/python3.7/dist-packages (from scikit-learn>=0.23.0->diffprivlib) (3.0.0)\n"
          ]
        }
      ],
      "source": [
        "!pip install diffprivlib"
      ]
    },
    {
      "cell_type": "code",
      "execution_count": 70,
      "metadata": {
        "id": "Kov6JmcIqoaf",
        "colab": {
          "base_uri": "https://localhost:8080/"
        },
        "outputId": "cc0adfa9-e161-40d5-a91f-0bbb18d81880"
      },
      "outputs": [
        {
          "output_type": "stream",
          "name": "stderr",
          "text": [
            "/usr/local/lib/python3.7/dist-packages/diffprivlib/models/forest.py:194: PrivacyLeakWarning: `feature_domains` parameter hasn't been specified, so falling back to determining domains from the data.\n",
            "This may result in additional privacy leakage. To ensure differential privacy with no additional privacy loss, specify `feature_domains` according to the documentation\n",
            "  PrivacyLeakWarning)\n"
          ]
        },
        {
          "output_type": "execute_result",
          "data": {
            "text/plain": [
              "0.603"
            ]
          },
          "metadata": {},
          "execution_count": 70
        }
      ],
      "source": [
        "import diffprivlib as dp\n",
        "\n",
        "dpclf = dp.models.RandomForestClassifier(n_estimators = 50, random_state = 0,epsilon=0.1)\n",
        "dpclf = dpclf.fit(X_train, y_train)  \n",
        "preds = dpclf.predict(X_test)  \n",
        "round(accuracy_score(y_true = y_test, y_pred = preds), 3)"
      ]
    },
    {
      "cell_type": "code",
      "source": [
        "def une_eval_avec_dp_random_forest(rs):\n",
        "  dpclf = dp.models.RandomForestClassifier( n_estimators = 50, epsilon=0.1)\n",
        "  dpclf = dpclf.fit(X_train, y_train)  \n",
        "  preds = dpclf.predict(X_test)  \n",
        "  return accuracy_score(y_true = y_test, y_pred = preds)\n",
        "\n",
        "def evaluation(func,nbexp):\n",
        "  s = pd.Series(np.arange(nbexp))\n",
        "  sp = s.apply(func)\n",
        "  return sp\n",
        "\n",
        "sp = evaluation(une_eval_avec_dp_random_forest,100)\n",
        "sp.describe()"
      ],
      "metadata": {
        "colab": {
          "base_uri": "https://localhost:8080/"
        },
        "id": "L5ebAL6J_3At",
        "outputId": "fd4ad599-399a-429b-8560-23d8757487e7"
      },
      "execution_count": 71,
      "outputs": [
        {
          "output_type": "stream",
          "name": "stderr",
          "text": [
            "/usr/local/lib/python3.7/dist-packages/diffprivlib/models/forest.py:194: PrivacyLeakWarning: `feature_domains` parameter hasn't been specified, so falling back to determining domains from the data.\n",
            "This may result in additional privacy leakage. To ensure differential privacy with no additional privacy loss, specify `feature_domains` according to the documentation\n",
            "  PrivacyLeakWarning)\n",
            "/usr/local/lib/python3.7/dist-packages/diffprivlib/models/forest.py:194: PrivacyLeakWarning: `feature_domains` parameter hasn't been specified, so falling back to determining domains from the data.\n",
            "This may result in additional privacy leakage. To ensure differential privacy with no additional privacy loss, specify `feature_domains` according to the documentation\n",
            "  PrivacyLeakWarning)\n",
            "/usr/local/lib/python3.7/dist-packages/diffprivlib/models/forest.py:194: PrivacyLeakWarning: `feature_domains` parameter hasn't been specified, so falling back to determining domains from the data.\n",
            "This may result in additional privacy leakage. To ensure differential privacy with no additional privacy loss, specify `feature_domains` according to the documentation\n",
            "  PrivacyLeakWarning)\n",
            "/usr/local/lib/python3.7/dist-packages/diffprivlib/models/forest.py:194: PrivacyLeakWarning: `feature_domains` parameter hasn't been specified, so falling back to determining domains from the data.\n",
            "This may result in additional privacy leakage. To ensure differential privacy with no additional privacy loss, specify `feature_domains` according to the documentation\n",
            "  PrivacyLeakWarning)\n",
            "/usr/local/lib/python3.7/dist-packages/diffprivlib/models/forest.py:194: PrivacyLeakWarning: `feature_domains` parameter hasn't been specified, so falling back to determining domains from the data.\n",
            "This may result in additional privacy leakage. To ensure differential privacy with no additional privacy loss, specify `feature_domains` according to the documentation\n",
            "  PrivacyLeakWarning)\n",
            "/usr/local/lib/python3.7/dist-packages/diffprivlib/models/forest.py:194: PrivacyLeakWarning: `feature_domains` parameter hasn't been specified, so falling back to determining domains from the data.\n",
            "This may result in additional privacy leakage. To ensure differential privacy with no additional privacy loss, specify `feature_domains` according to the documentation\n",
            "  PrivacyLeakWarning)\n",
            "/usr/local/lib/python3.7/dist-packages/diffprivlib/models/forest.py:194: PrivacyLeakWarning: `feature_domains` parameter hasn't been specified, so falling back to determining domains from the data.\n",
            "This may result in additional privacy leakage. To ensure differential privacy with no additional privacy loss, specify `feature_domains` according to the documentation\n",
            "  PrivacyLeakWarning)\n",
            "/usr/local/lib/python3.7/dist-packages/diffprivlib/models/forest.py:194: PrivacyLeakWarning: `feature_domains` parameter hasn't been specified, so falling back to determining domains from the data.\n",
            "This may result in additional privacy leakage. To ensure differential privacy with no additional privacy loss, specify `feature_domains` according to the documentation\n",
            "  PrivacyLeakWarning)\n",
            "/usr/local/lib/python3.7/dist-packages/diffprivlib/models/forest.py:194: PrivacyLeakWarning: `feature_domains` parameter hasn't been specified, so falling back to determining domains from the data.\n",
            "This may result in additional privacy leakage. To ensure differential privacy with no additional privacy loss, specify `feature_domains` according to the documentation\n",
            "  PrivacyLeakWarning)\n",
            "/usr/local/lib/python3.7/dist-packages/diffprivlib/models/forest.py:194: PrivacyLeakWarning: `feature_domains` parameter hasn't been specified, so falling back to determining domains from the data.\n",
            "This may result in additional privacy leakage. To ensure differential privacy with no additional privacy loss, specify `feature_domains` according to the documentation\n",
            "  PrivacyLeakWarning)\n",
            "/usr/local/lib/python3.7/dist-packages/diffprivlib/models/forest.py:194: PrivacyLeakWarning: `feature_domains` parameter hasn't been specified, so falling back to determining domains from the data.\n",
            "This may result in additional privacy leakage. To ensure differential privacy with no additional privacy loss, specify `feature_domains` according to the documentation\n",
            "  PrivacyLeakWarning)\n",
            "/usr/local/lib/python3.7/dist-packages/diffprivlib/models/forest.py:194: PrivacyLeakWarning: `feature_domains` parameter hasn't been specified, so falling back to determining domains from the data.\n",
            "This may result in additional privacy leakage. To ensure differential privacy with no additional privacy loss, specify `feature_domains` according to the documentation\n",
            "  PrivacyLeakWarning)\n",
            "/usr/local/lib/python3.7/dist-packages/diffprivlib/models/forest.py:194: PrivacyLeakWarning: `feature_domains` parameter hasn't been specified, so falling back to determining domains from the data.\n",
            "This may result in additional privacy leakage. To ensure differential privacy with no additional privacy loss, specify `feature_domains` according to the documentation\n",
            "  PrivacyLeakWarning)\n",
            "/usr/local/lib/python3.7/dist-packages/diffprivlib/models/forest.py:194: PrivacyLeakWarning: `feature_domains` parameter hasn't been specified, so falling back to determining domains from the data.\n",
            "This may result in additional privacy leakage. To ensure differential privacy with no additional privacy loss, specify `feature_domains` according to the documentation\n",
            "  PrivacyLeakWarning)\n",
            "/usr/local/lib/python3.7/dist-packages/diffprivlib/models/forest.py:194: PrivacyLeakWarning: `feature_domains` parameter hasn't been specified, so falling back to determining domains from the data.\n",
            "This may result in additional privacy leakage. To ensure differential privacy with no additional privacy loss, specify `feature_domains` according to the documentation\n",
            "  PrivacyLeakWarning)\n",
            "/usr/local/lib/python3.7/dist-packages/diffprivlib/models/forest.py:194: PrivacyLeakWarning: `feature_domains` parameter hasn't been specified, so falling back to determining domains from the data.\n",
            "This may result in additional privacy leakage. To ensure differential privacy with no additional privacy loss, specify `feature_domains` according to the documentation\n",
            "  PrivacyLeakWarning)\n",
            "/usr/local/lib/python3.7/dist-packages/diffprivlib/models/forest.py:194: PrivacyLeakWarning: `feature_domains` parameter hasn't been specified, so falling back to determining domains from the data.\n",
            "This may result in additional privacy leakage. To ensure differential privacy with no additional privacy loss, specify `feature_domains` according to the documentation\n",
            "  PrivacyLeakWarning)\n",
            "/usr/local/lib/python3.7/dist-packages/diffprivlib/models/forest.py:194: PrivacyLeakWarning: `feature_domains` parameter hasn't been specified, so falling back to determining domains from the data.\n",
            "This may result in additional privacy leakage. To ensure differential privacy with no additional privacy loss, specify `feature_domains` according to the documentation\n",
            "  PrivacyLeakWarning)\n",
            "/usr/local/lib/python3.7/dist-packages/diffprivlib/models/forest.py:194: PrivacyLeakWarning: `feature_domains` parameter hasn't been specified, so falling back to determining domains from the data.\n",
            "This may result in additional privacy leakage. To ensure differential privacy with no additional privacy loss, specify `feature_domains` according to the documentation\n",
            "  PrivacyLeakWarning)\n",
            "/usr/local/lib/python3.7/dist-packages/diffprivlib/models/forest.py:194: PrivacyLeakWarning: `feature_domains` parameter hasn't been specified, so falling back to determining domains from the data.\n",
            "This may result in additional privacy leakage. To ensure differential privacy with no additional privacy loss, specify `feature_domains` according to the documentation\n",
            "  PrivacyLeakWarning)\n",
            "/usr/local/lib/python3.7/dist-packages/diffprivlib/models/forest.py:194: PrivacyLeakWarning: `feature_domains` parameter hasn't been specified, so falling back to determining domains from the data.\n",
            "This may result in additional privacy leakage. To ensure differential privacy with no additional privacy loss, specify `feature_domains` according to the documentation\n",
            "  PrivacyLeakWarning)\n",
            "/usr/local/lib/python3.7/dist-packages/diffprivlib/models/forest.py:194: PrivacyLeakWarning: `feature_domains` parameter hasn't been specified, so falling back to determining domains from the data.\n",
            "This may result in additional privacy leakage. To ensure differential privacy with no additional privacy loss, specify `feature_domains` according to the documentation\n",
            "  PrivacyLeakWarning)\n",
            "/usr/local/lib/python3.7/dist-packages/diffprivlib/models/forest.py:194: PrivacyLeakWarning: `feature_domains` parameter hasn't been specified, so falling back to determining domains from the data.\n",
            "This may result in additional privacy leakage. To ensure differential privacy with no additional privacy loss, specify `feature_domains` according to the documentation\n",
            "  PrivacyLeakWarning)\n",
            "/usr/local/lib/python3.7/dist-packages/diffprivlib/models/forest.py:194: PrivacyLeakWarning: `feature_domains` parameter hasn't been specified, so falling back to determining domains from the data.\n",
            "This may result in additional privacy leakage. To ensure differential privacy with no additional privacy loss, specify `feature_domains` according to the documentation\n",
            "  PrivacyLeakWarning)\n",
            "/usr/local/lib/python3.7/dist-packages/diffprivlib/models/forest.py:194: PrivacyLeakWarning: `feature_domains` parameter hasn't been specified, so falling back to determining domains from the data.\n",
            "This may result in additional privacy leakage. To ensure differential privacy with no additional privacy loss, specify `feature_domains` according to the documentation\n",
            "  PrivacyLeakWarning)\n",
            "/usr/local/lib/python3.7/dist-packages/diffprivlib/models/forest.py:194: PrivacyLeakWarning: `feature_domains` parameter hasn't been specified, so falling back to determining domains from the data.\n",
            "This may result in additional privacy leakage. To ensure differential privacy with no additional privacy loss, specify `feature_domains` according to the documentation\n",
            "  PrivacyLeakWarning)\n",
            "/usr/local/lib/python3.7/dist-packages/diffprivlib/models/forest.py:194: PrivacyLeakWarning: `feature_domains` parameter hasn't been specified, so falling back to determining domains from the data.\n",
            "This may result in additional privacy leakage. To ensure differential privacy with no additional privacy loss, specify `feature_domains` according to the documentation\n",
            "  PrivacyLeakWarning)\n",
            "/usr/local/lib/python3.7/dist-packages/diffprivlib/models/forest.py:194: PrivacyLeakWarning: `feature_domains` parameter hasn't been specified, so falling back to determining domains from the data.\n",
            "This may result in additional privacy leakage. To ensure differential privacy with no additional privacy loss, specify `feature_domains` according to the documentation\n",
            "  PrivacyLeakWarning)\n",
            "/usr/local/lib/python3.7/dist-packages/diffprivlib/models/forest.py:194: PrivacyLeakWarning: `feature_domains` parameter hasn't been specified, so falling back to determining domains from the data.\n",
            "This may result in additional privacy leakage. To ensure differential privacy with no additional privacy loss, specify `feature_domains` according to the documentation\n",
            "  PrivacyLeakWarning)\n",
            "/usr/local/lib/python3.7/dist-packages/diffprivlib/models/forest.py:194: PrivacyLeakWarning: `feature_domains` parameter hasn't been specified, so falling back to determining domains from the data.\n",
            "This may result in additional privacy leakage. To ensure differential privacy with no additional privacy loss, specify `feature_domains` according to the documentation\n",
            "  PrivacyLeakWarning)\n",
            "/usr/local/lib/python3.7/dist-packages/diffprivlib/models/forest.py:194: PrivacyLeakWarning: `feature_domains` parameter hasn't been specified, so falling back to determining domains from the data.\n",
            "This may result in additional privacy leakage. To ensure differential privacy with no additional privacy loss, specify `feature_domains` according to the documentation\n",
            "  PrivacyLeakWarning)\n",
            "/usr/local/lib/python3.7/dist-packages/diffprivlib/models/forest.py:194: PrivacyLeakWarning: `feature_domains` parameter hasn't been specified, so falling back to determining domains from the data.\n",
            "This may result in additional privacy leakage. To ensure differential privacy with no additional privacy loss, specify `feature_domains` according to the documentation\n",
            "  PrivacyLeakWarning)\n",
            "/usr/local/lib/python3.7/dist-packages/diffprivlib/models/forest.py:194: PrivacyLeakWarning: `feature_domains` parameter hasn't been specified, so falling back to determining domains from the data.\n",
            "This may result in additional privacy leakage. To ensure differential privacy with no additional privacy loss, specify `feature_domains` according to the documentation\n",
            "  PrivacyLeakWarning)\n",
            "/usr/local/lib/python3.7/dist-packages/diffprivlib/models/forest.py:194: PrivacyLeakWarning: `feature_domains` parameter hasn't been specified, so falling back to determining domains from the data.\n",
            "This may result in additional privacy leakage. To ensure differential privacy with no additional privacy loss, specify `feature_domains` according to the documentation\n",
            "  PrivacyLeakWarning)\n",
            "/usr/local/lib/python3.7/dist-packages/diffprivlib/models/forest.py:194: PrivacyLeakWarning: `feature_domains` parameter hasn't been specified, so falling back to determining domains from the data.\n",
            "This may result in additional privacy leakage. To ensure differential privacy with no additional privacy loss, specify `feature_domains` according to the documentation\n",
            "  PrivacyLeakWarning)\n",
            "/usr/local/lib/python3.7/dist-packages/diffprivlib/models/forest.py:194: PrivacyLeakWarning: `feature_domains` parameter hasn't been specified, so falling back to determining domains from the data.\n",
            "This may result in additional privacy leakage. To ensure differential privacy with no additional privacy loss, specify `feature_domains` according to the documentation\n",
            "  PrivacyLeakWarning)\n",
            "/usr/local/lib/python3.7/dist-packages/diffprivlib/models/forest.py:194: PrivacyLeakWarning: `feature_domains` parameter hasn't been specified, so falling back to determining domains from the data.\n",
            "This may result in additional privacy leakage. To ensure differential privacy with no additional privacy loss, specify `feature_domains` according to the documentation\n",
            "  PrivacyLeakWarning)\n",
            "/usr/local/lib/python3.7/dist-packages/diffprivlib/models/forest.py:194: PrivacyLeakWarning: `feature_domains` parameter hasn't been specified, so falling back to determining domains from the data.\n",
            "This may result in additional privacy leakage. To ensure differential privacy with no additional privacy loss, specify `feature_domains` according to the documentation\n",
            "  PrivacyLeakWarning)\n",
            "/usr/local/lib/python3.7/dist-packages/diffprivlib/models/forest.py:194: PrivacyLeakWarning: `feature_domains` parameter hasn't been specified, so falling back to determining domains from the data.\n",
            "This may result in additional privacy leakage. To ensure differential privacy with no additional privacy loss, specify `feature_domains` according to the documentation\n",
            "  PrivacyLeakWarning)\n",
            "/usr/local/lib/python3.7/dist-packages/diffprivlib/models/forest.py:194: PrivacyLeakWarning: `feature_domains` parameter hasn't been specified, so falling back to determining domains from the data.\n",
            "This may result in additional privacy leakage. To ensure differential privacy with no additional privacy loss, specify `feature_domains` according to the documentation\n",
            "  PrivacyLeakWarning)\n",
            "/usr/local/lib/python3.7/dist-packages/diffprivlib/models/forest.py:194: PrivacyLeakWarning: `feature_domains` parameter hasn't been specified, so falling back to determining domains from the data.\n",
            "This may result in additional privacy leakage. To ensure differential privacy with no additional privacy loss, specify `feature_domains` according to the documentation\n",
            "  PrivacyLeakWarning)\n",
            "/usr/local/lib/python3.7/dist-packages/diffprivlib/models/forest.py:194: PrivacyLeakWarning: `feature_domains` parameter hasn't been specified, so falling back to determining domains from the data.\n",
            "This may result in additional privacy leakage. To ensure differential privacy with no additional privacy loss, specify `feature_domains` according to the documentation\n",
            "  PrivacyLeakWarning)\n",
            "/usr/local/lib/python3.7/dist-packages/diffprivlib/models/forest.py:194: PrivacyLeakWarning: `feature_domains` parameter hasn't been specified, so falling back to determining domains from the data.\n",
            "This may result in additional privacy leakage. To ensure differential privacy with no additional privacy loss, specify `feature_domains` according to the documentation\n",
            "  PrivacyLeakWarning)\n",
            "/usr/local/lib/python3.7/dist-packages/diffprivlib/models/forest.py:194: PrivacyLeakWarning: `feature_domains` parameter hasn't been specified, so falling back to determining domains from the data.\n",
            "This may result in additional privacy leakage. To ensure differential privacy with no additional privacy loss, specify `feature_domains` according to the documentation\n",
            "  PrivacyLeakWarning)\n",
            "/usr/local/lib/python3.7/dist-packages/diffprivlib/models/forest.py:194: PrivacyLeakWarning: `feature_domains` parameter hasn't been specified, so falling back to determining domains from the data.\n",
            "This may result in additional privacy leakage. To ensure differential privacy with no additional privacy loss, specify `feature_domains` according to the documentation\n",
            "  PrivacyLeakWarning)\n",
            "/usr/local/lib/python3.7/dist-packages/diffprivlib/models/forest.py:194: PrivacyLeakWarning: `feature_domains` parameter hasn't been specified, so falling back to determining domains from the data.\n",
            "This may result in additional privacy leakage. To ensure differential privacy with no additional privacy loss, specify `feature_domains` according to the documentation\n",
            "  PrivacyLeakWarning)\n",
            "/usr/local/lib/python3.7/dist-packages/diffprivlib/models/forest.py:194: PrivacyLeakWarning: `feature_domains` parameter hasn't been specified, so falling back to determining domains from the data.\n",
            "This may result in additional privacy leakage. To ensure differential privacy with no additional privacy loss, specify `feature_domains` according to the documentation\n",
            "  PrivacyLeakWarning)\n",
            "/usr/local/lib/python3.7/dist-packages/diffprivlib/models/forest.py:194: PrivacyLeakWarning: `feature_domains` parameter hasn't been specified, so falling back to determining domains from the data.\n",
            "This may result in additional privacy leakage. To ensure differential privacy with no additional privacy loss, specify `feature_domains` according to the documentation\n",
            "  PrivacyLeakWarning)\n",
            "/usr/local/lib/python3.7/dist-packages/diffprivlib/models/forest.py:194: PrivacyLeakWarning: `feature_domains` parameter hasn't been specified, so falling back to determining domains from the data.\n",
            "This may result in additional privacy leakage. To ensure differential privacy with no additional privacy loss, specify `feature_domains` according to the documentation\n",
            "  PrivacyLeakWarning)\n",
            "/usr/local/lib/python3.7/dist-packages/diffprivlib/models/forest.py:194: PrivacyLeakWarning: `feature_domains` parameter hasn't been specified, so falling back to determining domains from the data.\n",
            "This may result in additional privacy leakage. To ensure differential privacy with no additional privacy loss, specify `feature_domains` according to the documentation\n",
            "  PrivacyLeakWarning)\n",
            "/usr/local/lib/python3.7/dist-packages/diffprivlib/models/forest.py:194: PrivacyLeakWarning: `feature_domains` parameter hasn't been specified, so falling back to determining domains from the data.\n",
            "This may result in additional privacy leakage. To ensure differential privacy with no additional privacy loss, specify `feature_domains` according to the documentation\n",
            "  PrivacyLeakWarning)\n",
            "/usr/local/lib/python3.7/dist-packages/diffprivlib/models/forest.py:194: PrivacyLeakWarning: `feature_domains` parameter hasn't been specified, so falling back to determining domains from the data.\n",
            "This may result in additional privacy leakage. To ensure differential privacy with no additional privacy loss, specify `feature_domains` according to the documentation\n",
            "  PrivacyLeakWarning)\n",
            "/usr/local/lib/python3.7/dist-packages/diffprivlib/models/forest.py:194: PrivacyLeakWarning: `feature_domains` parameter hasn't been specified, so falling back to determining domains from the data.\n",
            "This may result in additional privacy leakage. To ensure differential privacy with no additional privacy loss, specify `feature_domains` according to the documentation\n",
            "  PrivacyLeakWarning)\n",
            "/usr/local/lib/python3.7/dist-packages/diffprivlib/models/forest.py:194: PrivacyLeakWarning: `feature_domains` parameter hasn't been specified, so falling back to determining domains from the data.\n",
            "This may result in additional privacy leakage. To ensure differential privacy with no additional privacy loss, specify `feature_domains` according to the documentation\n",
            "  PrivacyLeakWarning)\n",
            "/usr/local/lib/python3.7/dist-packages/diffprivlib/models/forest.py:194: PrivacyLeakWarning: `feature_domains` parameter hasn't been specified, so falling back to determining domains from the data.\n",
            "This may result in additional privacy leakage. To ensure differential privacy with no additional privacy loss, specify `feature_domains` according to the documentation\n",
            "  PrivacyLeakWarning)\n",
            "/usr/local/lib/python3.7/dist-packages/diffprivlib/models/forest.py:194: PrivacyLeakWarning: `feature_domains` parameter hasn't been specified, so falling back to determining domains from the data.\n",
            "This may result in additional privacy leakage. To ensure differential privacy with no additional privacy loss, specify `feature_domains` according to the documentation\n",
            "  PrivacyLeakWarning)\n",
            "/usr/local/lib/python3.7/dist-packages/diffprivlib/models/forest.py:194: PrivacyLeakWarning: `feature_domains` parameter hasn't been specified, so falling back to determining domains from the data.\n",
            "This may result in additional privacy leakage. To ensure differential privacy with no additional privacy loss, specify `feature_domains` according to the documentation\n",
            "  PrivacyLeakWarning)\n",
            "/usr/local/lib/python3.7/dist-packages/diffprivlib/models/forest.py:194: PrivacyLeakWarning: `feature_domains` parameter hasn't been specified, so falling back to determining domains from the data.\n",
            "This may result in additional privacy leakage. To ensure differential privacy with no additional privacy loss, specify `feature_domains` according to the documentation\n",
            "  PrivacyLeakWarning)\n",
            "/usr/local/lib/python3.7/dist-packages/diffprivlib/models/forest.py:194: PrivacyLeakWarning: `feature_domains` parameter hasn't been specified, so falling back to determining domains from the data.\n",
            "This may result in additional privacy leakage. To ensure differential privacy with no additional privacy loss, specify `feature_domains` according to the documentation\n",
            "  PrivacyLeakWarning)\n",
            "/usr/local/lib/python3.7/dist-packages/diffprivlib/models/forest.py:194: PrivacyLeakWarning: `feature_domains` parameter hasn't been specified, so falling back to determining domains from the data.\n",
            "This may result in additional privacy leakage. To ensure differential privacy with no additional privacy loss, specify `feature_domains` according to the documentation\n",
            "  PrivacyLeakWarning)\n",
            "/usr/local/lib/python3.7/dist-packages/diffprivlib/models/forest.py:194: PrivacyLeakWarning: `feature_domains` parameter hasn't been specified, so falling back to determining domains from the data.\n",
            "This may result in additional privacy leakage. To ensure differential privacy with no additional privacy loss, specify `feature_domains` according to the documentation\n",
            "  PrivacyLeakWarning)\n",
            "/usr/local/lib/python3.7/dist-packages/diffprivlib/models/forest.py:194: PrivacyLeakWarning: `feature_domains` parameter hasn't been specified, so falling back to determining domains from the data.\n",
            "This may result in additional privacy leakage. To ensure differential privacy with no additional privacy loss, specify `feature_domains` according to the documentation\n",
            "  PrivacyLeakWarning)\n",
            "/usr/local/lib/python3.7/dist-packages/diffprivlib/models/forest.py:194: PrivacyLeakWarning: `feature_domains` parameter hasn't been specified, so falling back to determining domains from the data.\n",
            "This may result in additional privacy leakage. To ensure differential privacy with no additional privacy loss, specify `feature_domains` according to the documentation\n",
            "  PrivacyLeakWarning)\n",
            "/usr/local/lib/python3.7/dist-packages/diffprivlib/models/forest.py:194: PrivacyLeakWarning: `feature_domains` parameter hasn't been specified, so falling back to determining domains from the data.\n",
            "This may result in additional privacy leakage. To ensure differential privacy with no additional privacy loss, specify `feature_domains` according to the documentation\n",
            "  PrivacyLeakWarning)\n",
            "/usr/local/lib/python3.7/dist-packages/diffprivlib/models/forest.py:194: PrivacyLeakWarning: `feature_domains` parameter hasn't been specified, so falling back to determining domains from the data.\n",
            "This may result in additional privacy leakage. To ensure differential privacy with no additional privacy loss, specify `feature_domains` according to the documentation\n",
            "  PrivacyLeakWarning)\n",
            "/usr/local/lib/python3.7/dist-packages/diffprivlib/models/forest.py:194: PrivacyLeakWarning: `feature_domains` parameter hasn't been specified, so falling back to determining domains from the data.\n",
            "This may result in additional privacy leakage. To ensure differential privacy with no additional privacy loss, specify `feature_domains` according to the documentation\n",
            "  PrivacyLeakWarning)\n",
            "/usr/local/lib/python3.7/dist-packages/diffprivlib/models/forest.py:194: PrivacyLeakWarning: `feature_domains` parameter hasn't been specified, so falling back to determining domains from the data.\n",
            "This may result in additional privacy leakage. To ensure differential privacy with no additional privacy loss, specify `feature_domains` according to the documentation\n",
            "  PrivacyLeakWarning)\n",
            "/usr/local/lib/python3.7/dist-packages/diffprivlib/models/forest.py:194: PrivacyLeakWarning: `feature_domains` parameter hasn't been specified, so falling back to determining domains from the data.\n",
            "This may result in additional privacy leakage. To ensure differential privacy with no additional privacy loss, specify `feature_domains` according to the documentation\n",
            "  PrivacyLeakWarning)\n",
            "/usr/local/lib/python3.7/dist-packages/diffprivlib/models/forest.py:194: PrivacyLeakWarning: `feature_domains` parameter hasn't been specified, so falling back to determining domains from the data.\n",
            "This may result in additional privacy leakage. To ensure differential privacy with no additional privacy loss, specify `feature_domains` according to the documentation\n",
            "  PrivacyLeakWarning)\n",
            "/usr/local/lib/python3.7/dist-packages/diffprivlib/models/forest.py:194: PrivacyLeakWarning: `feature_domains` parameter hasn't been specified, so falling back to determining domains from the data.\n",
            "This may result in additional privacy leakage. To ensure differential privacy with no additional privacy loss, specify `feature_domains` according to the documentation\n",
            "  PrivacyLeakWarning)\n",
            "/usr/local/lib/python3.7/dist-packages/diffprivlib/models/forest.py:194: PrivacyLeakWarning: `feature_domains` parameter hasn't been specified, so falling back to determining domains from the data.\n",
            "This may result in additional privacy leakage. To ensure differential privacy with no additional privacy loss, specify `feature_domains` according to the documentation\n",
            "  PrivacyLeakWarning)\n",
            "/usr/local/lib/python3.7/dist-packages/diffprivlib/models/forest.py:194: PrivacyLeakWarning: `feature_domains` parameter hasn't been specified, so falling back to determining domains from the data.\n",
            "This may result in additional privacy leakage. To ensure differential privacy with no additional privacy loss, specify `feature_domains` according to the documentation\n",
            "  PrivacyLeakWarning)\n",
            "/usr/local/lib/python3.7/dist-packages/diffprivlib/models/forest.py:194: PrivacyLeakWarning: `feature_domains` parameter hasn't been specified, so falling back to determining domains from the data.\n",
            "This may result in additional privacy leakage. To ensure differential privacy with no additional privacy loss, specify `feature_domains` according to the documentation\n",
            "  PrivacyLeakWarning)\n",
            "/usr/local/lib/python3.7/dist-packages/diffprivlib/models/forest.py:194: PrivacyLeakWarning: `feature_domains` parameter hasn't been specified, so falling back to determining domains from the data.\n",
            "This may result in additional privacy leakage. To ensure differential privacy with no additional privacy loss, specify `feature_domains` according to the documentation\n",
            "  PrivacyLeakWarning)\n",
            "/usr/local/lib/python3.7/dist-packages/diffprivlib/models/forest.py:194: PrivacyLeakWarning: `feature_domains` parameter hasn't been specified, so falling back to determining domains from the data.\n",
            "This may result in additional privacy leakage. To ensure differential privacy with no additional privacy loss, specify `feature_domains` according to the documentation\n",
            "  PrivacyLeakWarning)\n",
            "/usr/local/lib/python3.7/dist-packages/diffprivlib/models/forest.py:194: PrivacyLeakWarning: `feature_domains` parameter hasn't been specified, so falling back to determining domains from the data.\n",
            "This may result in additional privacy leakage. To ensure differential privacy with no additional privacy loss, specify `feature_domains` according to the documentation\n",
            "  PrivacyLeakWarning)\n",
            "/usr/local/lib/python3.7/dist-packages/diffprivlib/models/forest.py:194: PrivacyLeakWarning: `feature_domains` parameter hasn't been specified, so falling back to determining domains from the data.\n",
            "This may result in additional privacy leakage. To ensure differential privacy with no additional privacy loss, specify `feature_domains` according to the documentation\n",
            "  PrivacyLeakWarning)\n",
            "/usr/local/lib/python3.7/dist-packages/diffprivlib/models/forest.py:194: PrivacyLeakWarning: `feature_domains` parameter hasn't been specified, so falling back to determining domains from the data.\n",
            "This may result in additional privacy leakage. To ensure differential privacy with no additional privacy loss, specify `feature_domains` according to the documentation\n",
            "  PrivacyLeakWarning)\n",
            "/usr/local/lib/python3.7/dist-packages/diffprivlib/models/forest.py:194: PrivacyLeakWarning: `feature_domains` parameter hasn't been specified, so falling back to determining domains from the data.\n",
            "This may result in additional privacy leakage. To ensure differential privacy with no additional privacy loss, specify `feature_domains` according to the documentation\n",
            "  PrivacyLeakWarning)\n",
            "/usr/local/lib/python3.7/dist-packages/diffprivlib/models/forest.py:194: PrivacyLeakWarning: `feature_domains` parameter hasn't been specified, so falling back to determining domains from the data.\n",
            "This may result in additional privacy leakage. To ensure differential privacy with no additional privacy loss, specify `feature_domains` according to the documentation\n",
            "  PrivacyLeakWarning)\n",
            "/usr/local/lib/python3.7/dist-packages/diffprivlib/models/forest.py:194: PrivacyLeakWarning: `feature_domains` parameter hasn't been specified, so falling back to determining domains from the data.\n",
            "This may result in additional privacy leakage. To ensure differential privacy with no additional privacy loss, specify `feature_domains` according to the documentation\n",
            "  PrivacyLeakWarning)\n",
            "/usr/local/lib/python3.7/dist-packages/diffprivlib/models/forest.py:194: PrivacyLeakWarning: `feature_domains` parameter hasn't been specified, so falling back to determining domains from the data.\n",
            "This may result in additional privacy leakage. To ensure differential privacy with no additional privacy loss, specify `feature_domains` according to the documentation\n",
            "  PrivacyLeakWarning)\n",
            "/usr/local/lib/python3.7/dist-packages/diffprivlib/models/forest.py:194: PrivacyLeakWarning: `feature_domains` parameter hasn't been specified, so falling back to determining domains from the data.\n",
            "This may result in additional privacy leakage. To ensure differential privacy with no additional privacy loss, specify `feature_domains` according to the documentation\n",
            "  PrivacyLeakWarning)\n",
            "/usr/local/lib/python3.7/dist-packages/diffprivlib/models/forest.py:194: PrivacyLeakWarning: `feature_domains` parameter hasn't been specified, so falling back to determining domains from the data.\n",
            "This may result in additional privacy leakage. To ensure differential privacy with no additional privacy loss, specify `feature_domains` according to the documentation\n",
            "  PrivacyLeakWarning)\n",
            "/usr/local/lib/python3.7/dist-packages/diffprivlib/models/forest.py:194: PrivacyLeakWarning: `feature_domains` parameter hasn't been specified, so falling back to determining domains from the data.\n",
            "This may result in additional privacy leakage. To ensure differential privacy with no additional privacy loss, specify `feature_domains` according to the documentation\n",
            "  PrivacyLeakWarning)\n",
            "/usr/local/lib/python3.7/dist-packages/diffprivlib/models/forest.py:194: PrivacyLeakWarning: `feature_domains` parameter hasn't been specified, so falling back to determining domains from the data.\n",
            "This may result in additional privacy leakage. To ensure differential privacy with no additional privacy loss, specify `feature_domains` according to the documentation\n",
            "  PrivacyLeakWarning)\n",
            "/usr/local/lib/python3.7/dist-packages/diffprivlib/models/forest.py:194: PrivacyLeakWarning: `feature_domains` parameter hasn't been specified, so falling back to determining domains from the data.\n",
            "This may result in additional privacy leakage. To ensure differential privacy with no additional privacy loss, specify `feature_domains` according to the documentation\n",
            "  PrivacyLeakWarning)\n",
            "/usr/local/lib/python3.7/dist-packages/diffprivlib/models/forest.py:194: PrivacyLeakWarning: `feature_domains` parameter hasn't been specified, so falling back to determining domains from the data.\n",
            "This may result in additional privacy leakage. To ensure differential privacy with no additional privacy loss, specify `feature_domains` according to the documentation\n",
            "  PrivacyLeakWarning)\n",
            "/usr/local/lib/python3.7/dist-packages/diffprivlib/models/forest.py:194: PrivacyLeakWarning: `feature_domains` parameter hasn't been specified, so falling back to determining domains from the data.\n",
            "This may result in additional privacy leakage. To ensure differential privacy with no additional privacy loss, specify `feature_domains` according to the documentation\n",
            "  PrivacyLeakWarning)\n",
            "/usr/local/lib/python3.7/dist-packages/diffprivlib/models/forest.py:194: PrivacyLeakWarning: `feature_domains` parameter hasn't been specified, so falling back to determining domains from the data.\n",
            "This may result in additional privacy leakage. To ensure differential privacy with no additional privacy loss, specify `feature_domains` according to the documentation\n",
            "  PrivacyLeakWarning)\n",
            "/usr/local/lib/python3.7/dist-packages/diffprivlib/models/forest.py:194: PrivacyLeakWarning: `feature_domains` parameter hasn't been specified, so falling back to determining domains from the data.\n",
            "This may result in additional privacy leakage. To ensure differential privacy with no additional privacy loss, specify `feature_domains` according to the documentation\n",
            "  PrivacyLeakWarning)\n",
            "/usr/local/lib/python3.7/dist-packages/diffprivlib/models/forest.py:194: PrivacyLeakWarning: `feature_domains` parameter hasn't been specified, so falling back to determining domains from the data.\n",
            "This may result in additional privacy leakage. To ensure differential privacy with no additional privacy loss, specify `feature_domains` according to the documentation\n",
            "  PrivacyLeakWarning)\n",
            "/usr/local/lib/python3.7/dist-packages/diffprivlib/models/forest.py:194: PrivacyLeakWarning: `feature_domains` parameter hasn't been specified, so falling back to determining domains from the data.\n",
            "This may result in additional privacy leakage. To ensure differential privacy with no additional privacy loss, specify `feature_domains` according to the documentation\n",
            "  PrivacyLeakWarning)\n",
            "/usr/local/lib/python3.7/dist-packages/diffprivlib/models/forest.py:194: PrivacyLeakWarning: `feature_domains` parameter hasn't been specified, so falling back to determining domains from the data.\n",
            "This may result in additional privacy leakage. To ensure differential privacy with no additional privacy loss, specify `feature_domains` according to the documentation\n",
            "  PrivacyLeakWarning)\n",
            "/usr/local/lib/python3.7/dist-packages/diffprivlib/models/forest.py:194: PrivacyLeakWarning: `feature_domains` parameter hasn't been specified, so falling back to determining domains from the data.\n",
            "This may result in additional privacy leakage. To ensure differential privacy with no additional privacy loss, specify `feature_domains` according to the documentation\n",
            "  PrivacyLeakWarning)\n",
            "/usr/local/lib/python3.7/dist-packages/diffprivlib/models/forest.py:194: PrivacyLeakWarning: `feature_domains` parameter hasn't been specified, so falling back to determining domains from the data.\n",
            "This may result in additional privacy leakage. To ensure differential privacy with no additional privacy loss, specify `feature_domains` according to the documentation\n",
            "  PrivacyLeakWarning)\n",
            "/usr/local/lib/python3.7/dist-packages/diffprivlib/models/forest.py:194: PrivacyLeakWarning: `feature_domains` parameter hasn't been specified, so falling back to determining domains from the data.\n",
            "This may result in additional privacy leakage. To ensure differential privacy with no additional privacy loss, specify `feature_domains` according to the documentation\n",
            "  PrivacyLeakWarning)\n",
            "/usr/local/lib/python3.7/dist-packages/diffprivlib/models/forest.py:194: PrivacyLeakWarning: `feature_domains` parameter hasn't been specified, so falling back to determining domains from the data.\n",
            "This may result in additional privacy leakage. To ensure differential privacy with no additional privacy loss, specify `feature_domains` according to the documentation\n",
            "  PrivacyLeakWarning)\n",
            "/usr/local/lib/python3.7/dist-packages/diffprivlib/models/forest.py:194: PrivacyLeakWarning: `feature_domains` parameter hasn't been specified, so falling back to determining domains from the data.\n",
            "This may result in additional privacy leakage. To ensure differential privacy with no additional privacy loss, specify `feature_domains` according to the documentation\n",
            "  PrivacyLeakWarning)\n",
            "/usr/local/lib/python3.7/dist-packages/diffprivlib/models/forest.py:194: PrivacyLeakWarning: `feature_domains` parameter hasn't been specified, so falling back to determining domains from the data.\n",
            "This may result in additional privacy leakage. To ensure differential privacy with no additional privacy loss, specify `feature_domains` according to the documentation\n",
            "  PrivacyLeakWarning)\n"
          ]
        },
        {
          "output_type": "execute_result",
          "data": {
            "text/plain": [
              "count    100.000000\n",
              "mean       0.675196\n",
              "std        0.046714\n",
              "min        0.564246\n",
              "25%        0.642458\n",
              "50%        0.675978\n",
              "75%        0.709497\n",
              "max        0.776536\n",
              "dtype: float64"
            ]
          },
          "metadata": {},
          "execution_count": 71
        }
      ]
    },
    {
      "cell_type": "code",
      "source": [
        "sp.describe()"
      ],
      "metadata": {
        "id": "W4alViRzxLIM",
        "colab": {
          "base_uri": "https://localhost:8080/"
        },
        "outputId": "50403b64-f47a-429b-d5a6-8d51e3bee454"
      },
      "execution_count": 72,
      "outputs": [
        {
          "output_type": "execute_result",
          "data": {
            "text/plain": [
              "count    100.000000\n",
              "mean       0.675196\n",
              "std        0.046714\n",
              "min        0.564246\n",
              "25%        0.642458\n",
              "50%        0.675978\n",
              "75%        0.709497\n",
              "max        0.776536\n",
              "dtype: float64"
            ]
          },
          "metadata": {},
          "execution_count": 72
        }
      ]
    }
  ],
  "metadata": {
    "colab": {
      "collapsed_sections": [],
      "name": "StratificationRandomState.ipynb",
      "provenance": [],
      "authorship_tag": "ABX9TyMavdN9oX+sfwVosSxHmvbs",
      "include_colab_link": true
    },
    "kernelspec": {
      "display_name": "Python 3",
      "name": "python3"
    },
    "language_info": {
      "name": "python"
    }
  },
  "nbformat": 4,
  "nbformat_minor": 0
}
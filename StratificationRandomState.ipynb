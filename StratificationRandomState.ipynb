{
  "cells": [
    {
      "cell_type": "markdown",
      "metadata": {
        "id": "view-in-github",
        "colab_type": "text"
      },
      "source": [
        "<a href=\"https://colab.research.google.com/github/jfcouchot/M1-ISL-IR-/blob/main/StratificationRandomState.ipynb\" target=\"_parent\"><img src=\"https://colab.research.google.com/assets/colab-badge.svg\" alt=\"Open In Colab\"/></a>"
      ]
    },
    {
      "cell_type": "markdown",
      "metadata": {
        "id": "iU0ehJUdCQcV"
      },
      "source": [
        "**Pour importer des données depuis Google Drive** \n",
        "\n",
        "On monte le dossier drive, puis on lit les fichiers csv "
      ]
    },
    {
      "cell_type": "code",
      "execution_count": 2,
      "metadata": {
        "colab": {
          "base_uri": "https://localhost:8080/"
        },
        "id": "e8KgCUXEmGK0",
        "outputId": "0e83bf56-4c69-476f-c3e3-f2f0d34d5944"
      },
      "outputs": [
        {
          "output_type": "stream",
          "name": "stdout",
          "text": [
            "Mounted at /content/drive\n"
          ]
        }
      ],
      "source": [
        "from google.colab import drive\n",
        "import pandas as pd\n",
        "\n",
        "drive.mount('/content/drive')\n",
        "path = \"/content/drive/MyDrive/Colabs/M2ISL_IR_tp2/\"\n",
        "train_all = pd.read_csv(path+'train.csv')\n",
        "test_all = pd.read_csv(path+'test.csv')\n"
      ]
    },
    {
      "cell_type": "markdown",
      "metadata": {
        "id": "QKrCfGbSonN0"
      },
      "source": [
        "**Splitting Data**\n",
        "\n",
        "Distributions potentiellement différentes entre le training et le testing"
      ]
    },
    {
      "cell_type": "code",
      "execution_count": null,
      "metadata": {
        "colab": {
          "base_uri": "https://localhost:8080/"
        },
        "id": "0WfmhTxko3rq",
        "outputId": "4e241a76-d8db-4f40-f83b-2b6877d1579e"
      },
      "outputs": [
        {
          "data": {
            "text/plain": [
              "0    0.616162\n",
              "1    0.383838\n",
              "Name: Survived, dtype: float64"
            ]
          },
          "execution_count": 2,
          "metadata": {},
          "output_type": "execute_result"
        }
      ],
      "source": [
        "train_all.Survived.value_counts()/train_all.shape[0]"
      ]
    },
    {
      "cell_type": "code",
      "execution_count": 4,
      "metadata": {
        "id": "tEVJ5DNRp_qg"
      },
      "outputs": [],
      "source": [
        "from sklearn.model_selection import train_test_split\n",
        "\n",
        "X = train_all.drop('Survived', axis = 1) \n",
        "y = train_all.Survived  \n",
        "X_train, X_test, y_train, y_test = train_test_split(X, y, test_size = 0.2,random_state = 163035)"
      ]
    },
    {
      "cell_type": "code",
      "execution_count": null,
      "metadata": {
        "colab": {
          "base_uri": "https://localhost:8080/"
        },
        "id": "fZAbfUU4qw-e",
        "outputId": "cccb4897-fb38-43b2-aad8-fb421335aa70"
      },
      "outputs": [
        {
          "data": {
            "text/plain": [
              "0    0.577247\n",
              "1    0.422753\n",
              "Name: Survived, dtype: float64"
            ]
          },
          "execution_count": 4,
          "metadata": {},
          "output_type": "execute_result"
        }
      ],
      "source": [
        "y_train.value_counts() / y_train.shape[0] "
      ]
    },
    {
      "cell_type": "code",
      "execution_count": null,
      "metadata": {
        "colab": {
          "base_uri": "https://localhost:8080/"
        },
        "id": "EXfzW2fiq66q",
        "outputId": "cc360dfa-0a2c-4693-fcec-da6e394d7b0b"
      },
      "outputs": [
        {
          "data": {
            "text/plain": [
              "0    0.77095\n",
              "1    0.22905\n",
              "Name: Survived, dtype: float64"
            ]
          },
          "execution_count": 5,
          "metadata": {},
          "output_type": "execute_result"
        }
      ],
      "source": [
        "y_test.value_counts() / y_test.shape[0]"
      ]
    },
    {
      "cell_type": "markdown",
      "metadata": {
        "id": "FGSQ4Mn180uS"
      },
      "source": [
        "**Evaluation des différences entre distributions**"
      ]
    },
    {
      "cell_type": "code",
      "execution_count": null,
      "metadata": {
        "colab": {
          "background_save": true
        },
        "id": "es88rQEx8kaS",
        "outputId": "9a7d117d-f710-44da-a875-33240876fdce"
      },
      "outputs": [
        {
          "name": "stdout",
          "output_type": "stream",
          "text": [
            "135153 0.1977983177452765\n"
          ]
        }
      ],
      "source": [
        "mn, idx, l= 0,-1,[]\n",
        "for rs in range(int(3E5)):\n",
        "  X_train, X_test, y_train, y_test = train_test_split(X, y, test_size = 0.2,random_state = rs)\n",
        "  dif = abs((y_train.value_counts() / y_train.shape[0])[0] - (y_test.value_counts() / y_test.shape[0])[0])\n",
        "  l.append(dif)\n",
        "  if mn < dif :\n",
        "    idx,mn = rs,dif\n",
        "print(idx,mn)"
      ]
    },
    {
      "cell_type": "code",
      "execution_count": null,
      "metadata": {
        "id": "qR23DRF9_tkX"
      },
      "outputs": [],
      "source": [
        "from matplotlib import pyplot as plt\n",
        "from matplotlib.ticker import PercentFormatter\n",
        "import numpy as np \n",
        "\n",
        "plt.hist(l, bins=20,weights=np.ones(len(l)) / len(l))\n",
        "plt.gca().yaxis.set_major_formatter(PercentFormatter(1))\n",
        "plt.show()"
      ]
    },
    {
      "cell_type": "code",
      "execution_count": 5,
      "metadata": {
        "id": "hPH1nrih4TwX"
      },
      "outputs": [],
      "source": [
        "# Split avec distribution équilibrées \n",
        "X_train, X_test, y_train, y_test = train_test_split(X, y, test_size = 0.2,random_state = 20220115,stratify = y)\n"
      ]
    },
    {
      "cell_type": "code",
      "execution_count": null,
      "metadata": {
        "id": "Ag-MZPFn4pFs"
      },
      "outputs": [],
      "source": [
        "y_train.value_counts() / y_train.shape[0] "
      ]
    },
    {
      "cell_type": "code",
      "execution_count": null,
      "metadata": {
        "id": "0wm1AM1I4rAo"
      },
      "outputs": [],
      "source": [
        "y_test.value_counts() / y_test.shape[0]"
      ]
    },
    {
      "cell_type": "markdown",
      "metadata": {
        "id": "GRwhIL7qz-D-"
      },
      "source": [
        "**Mise en place apprentissage** \n",
        "\n",
        "Restriction aux attributs numériques et complets"
      ]
    },
    {
      "cell_type": "code",
      "execution_count": 6,
      "metadata": {
        "id": "gNYt3ObowCZY"
      },
      "outputs": [],
      "source": [
        "from sklearn.ensemble import RandomForestClassifier \n",
        "from sklearn.metrics import accuracy_score  \n",
        "X = X[['Pclass', 'Sex', 'SibSp', 'Fare']]  "
      ]
    },
    {
      "cell_type": "markdown",
      "metadata": {
        "id": "LeEuc4GN45Hr"
      },
      "source": [
        "Transforamtion female->1, male->0 "
      ]
    },
    {
      "cell_type": "code",
      "execution_count": 8,
      "metadata": {
        "id": "1O5HduzQ1Z04"
      },
      "outputs": [],
      "source": [
        "# The “Sex” variable is a string and needs to be one-hot encoded \n",
        "X['gender_dummy'] = pd.get_dummies(X.Sex)['female'] \n",
        "X = X.drop(['Sex'], axis = 1) \n",
        "X_train, X_test, y_train, y_test = train_test_split(X, y, test_size = 0.2, random_state = 20220115, stratify = y)"
      ]
    },
    {
      "cell_type": "markdown",
      "metadata": {
        "id": "hpVShM5b0LPY"
      },
      "source": [
        "**Première évaluation de l'apprentissage**\n",
        "\n",
        "avec random_state fixé"
      ]
    },
    {
      "cell_type": "code",
      "execution_count": 19,
      "metadata": {
        "id": "SZKeN3SYxwzz",
        "colab": {
          "base_uri": "https://localhost:8080/"
        },
        "outputId": "8afaab3d-ca05-4bf9-b4ce-d412b46faebd"
      },
      "outputs": [
        {
          "output_type": "execute_result",
          "data": {
            "text/plain": [
              "0.793"
            ]
          },
          "metadata": {},
          "execution_count": 19
        }
      ],
      "source": [
        "clf = RandomForestClassifier(n_estimators = 50, random_state = 0) \n",
        "clf = clf.fit(X_train, y_train)  \n",
        "preds = clf.predict(X_test)  \n",
        "round(accuracy_score(y_true = y_test, y_pred = preds), 3) "
      ]
    },
    {
      "cell_type": "code",
      "execution_count": 16,
      "metadata": {
        "id": "kooQvE5cCUSk",
        "colab": {
          "base_uri": "https://localhost:8080/"
        },
        "outputId": "b233562d-e687-4de5-f528-ca9d21a80562"
      },
      "outputs": [
        {
          "output_type": "stream",
          "name": "stdout",
          "text": [
            "9463 0.8100558659217877\n"
          ]
        }
      ],
      "source": [
        "mne = 0\n",
        "idxe=-1\n",
        "leclf=[]\n",
        "for rs in range(int(1E4)):\n",
        "  clf = RandomForestClassifier(n_estimators = 50, random_state = rs) \n",
        "  clf = clf.fit(X_train, y_train)  \n",
        "  preds = clf.predict(X_test)  \n",
        "  sc = accuracy_score(y_true = y_test, y_pred = preds)\n",
        "  leclf.append(sc)\n",
        "  if sc > mne :\n",
        "    idx = rs\n",
        "    mne = sc\n",
        "\n",
        "print(idx,mne)"
      ]
    },
    {
      "cell_type": "code",
      "execution_count": 17,
      "metadata": {
        "id": "G7hDcLl-xgp3",
        "colab": {
          "base_uri": "https://localhost:8080/",
          "height": 265
        },
        "outputId": "e2ef9b25-67a0-419b-bd49-3312268dfe29"
      },
      "outputs": [
        {
          "output_type": "display_data",
          "data": {
            "image/png": "[encoded data removed]",
            "text/plain": [
              "<Figure size 432x288 with 1 Axes>"
            ]
          },
          "metadata": {
            "needs_background": "light"
          }
        }
      ],
      "source": [
        "from matplotlib import pyplot as plt\n",
        "from matplotlib.ticker import PercentFormatter\n",
        "import numpy as np \n",
        "\n",
        "plt.hist(leclf,weights=np.ones(len(leclf)) / len(leclf))\n",
        "plt.gca().yaxis.set_major_formatter(PercentFormatter(1))\n",
        "plt.show()"
      ]
    },
    {
      "cell_type": "code",
      "source": [
        "# moyenne et ecart type\n",
        "res_series = pd.Series(leclf)\n",
        "res_series.describe()"
      ],
      "metadata": {
        "colab": {
          "base_uri": "https://localhost:8080/"
        },
        "id": "5-NRWrif4t2l",
        "outputId": "a8ea3962-83d6-4e26-f6e1-04615495ce23"
      },
      "execution_count": 18,
      "outputs": [
        {
          "output_type": "execute_result",
          "data": {
            "text/plain": [
              "count    10000.000000\n",
              "mean         0.783520\n",
              "std          0.006885\n",
              "min          0.759777\n",
              "25%          0.776536\n",
              "50%          0.782123\n",
              "75%          0.787709\n",
              "max          0.810056\n",
              "dtype: float64"
            ]
          },
          "metadata": {},
          "execution_count": 18
        }
      ]
    },
    {
      "cell_type": "markdown",
      "metadata": {
        "id": "GIbkQvqyp2af"
      },
      "source": [
        "**Mise en place d'une démarche de PVP**\n",
        "\n",
        "Utilisation de la version PVP de random forest de difprivlib avec import de bibliothèque"
      ]
    },
    {
      "cell_type": "code",
      "execution_count": 1,
      "metadata": {
        "id": "9T0P-tIqrJ2a",
        "colab": {
          "base_uri": "https://localhost:8080/"
        },
        "outputId": "37ab4c5a-a8a4-44b1-fafb-15fa806b22cf"
      },
      "outputs": [
        {
          "output_type": "stream",
          "name": "stdout",
          "text": [
            "Requirement already satisfied: diffprivlib in /usr/local/lib/python3.7/dist-packages (0.5.0)\n",
            "Requirement already satisfied: scikit-learn>=0.23.0 in /usr/local/lib/python3.7/dist-packages (from diffprivlib) (1.0.2)\n",
            "Requirement already satisfied: scipy>=1.5.0 in /usr/local/lib/python3.7/dist-packages (from diffprivlib) (1.7.3)\n",
            "Requirement already satisfied: joblib>=0.16.0 in /usr/local/lib/python3.7/dist-packages (from diffprivlib) (1.1.0)\n",
            "Requirement already satisfied: numpy>=1.19.0 in /usr/local/lib/python3.7/dist-packages (from diffprivlib) (1.19.5)\n",
            "Requirement already satisfied: setuptools>=49.0.0 in /usr/local/lib/python3.7/dist-packages (from diffprivlib) (57.4.0)\n",
            "Requirement already satisfied: threadpoolctl>=2.0.0 in /usr/local/lib/python3.7/dist-packages (from scikit-learn>=0.23.0->diffprivlib) (3.0.0)\n"
          ]
        }
      ],
      "source": [
        "!pip install diffprivlib"
      ]
    },
    {
      "cell_type": "code",
      "execution_count": 2,
      "metadata": {
        "id": "Kov6JmcIqoaf",
        "colab": {
          "base_uri": "https://localhost:8080/",
          "height": 238
        },
        "outputId": "7144159b-e8b2-4cf9-d37d-ae857043aa92"
      },
      "outputs": [
        {
          "output_type": "error",
          "ename": "NameError",
          "evalue": "ignored",
          "traceback": [
            "\u001b[0;31m---------------------------------------------------------------------------\u001b[0m",
            "\u001b[0;31mNameError\u001b[0m                                 Traceback (most recent call last)",
            "\u001b[0;32m<ipython-input-2-d9bb389cfda5>\u001b[0m in \u001b[0;36m<module>\u001b[0;34m()\u001b[0m\n\u001b[1;32m      2\u001b[0m \u001b[0;34m\u001b[0m\u001b[0m\n\u001b[1;32m      3\u001b[0m \u001b[0mdpclf\u001b[0m \u001b[0;34m=\u001b[0m \u001b[0mdp\u001b[0m\u001b[0;34m.\u001b[0m\u001b[0mmodels\u001b[0m\u001b[0;34m.\u001b[0m\u001b[0mRandomForestClassifier\u001b[0m\u001b[0;34m(\u001b[0m\u001b[0mn_estimators\u001b[0m \u001b[0;34m=\u001b[0m \u001b[0;36m50\u001b[0m\u001b[0;34m,\u001b[0m \u001b[0mrandom_state\u001b[0m \u001b[0;34m=\u001b[0m \u001b[0;36m0\u001b[0m\u001b[0;34m,\u001b[0m\u001b[0mepsilon\u001b[0m\u001b[0;34m=\u001b[0m\u001b[0;36m0.1\u001b[0m\u001b[0;34m)\u001b[0m\u001b[0;34m\u001b[0m\u001b[0;34m\u001b[0m\u001b[0m\n\u001b[0;32m----> 4\u001b[0;31m \u001b[0mdpclf\u001b[0m \u001b[0;34m=\u001b[0m \u001b[0mdpclf\u001b[0m\u001b[0;34m.\u001b[0m\u001b[0mfit\u001b[0m\u001b[0;34m(\u001b[0m\u001b[0mX_train\u001b[0m\u001b[0;34m,\u001b[0m \u001b[0my_train\u001b[0m\u001b[0;34m)\u001b[0m\u001b[0;34m\u001b[0m\u001b[0;34m\u001b[0m\u001b[0m\n\u001b[0m\u001b[1;32m      5\u001b[0m \u001b[0mpreds\u001b[0m \u001b[0;34m=\u001b[0m \u001b[0mdpclf\u001b[0m\u001b[0;34m.\u001b[0m\u001b[0mpredict\u001b[0m\u001b[0;34m(\u001b[0m\u001b[0mX_test\u001b[0m\u001b[0;34m)\u001b[0m\u001b[0;34m\u001b[0m\u001b[0;34m\u001b[0m\u001b[0m\n\u001b[1;32m      6\u001b[0m \u001b[0mround\u001b[0m\u001b[0;34m(\u001b[0m\u001b[0maccuracy_score\u001b[0m\u001b[0;34m(\u001b[0m\u001b[0my_true\u001b[0m \u001b[0;34m=\u001b[0m \u001b[0my_test\u001b[0m\u001b[0;34m,\u001b[0m \u001b[0my_pred\u001b[0m \u001b[0;34m=\u001b[0m \u001b[0mpreds\u001b[0m\u001b[0;34m)\u001b[0m\u001b[0;34m,\u001b[0m \u001b[0;36m3\u001b[0m\u001b[0;34m)\u001b[0m\u001b[0;34m\u001b[0m\u001b[0;34m\u001b[0m\u001b[0m\n",
            "\u001b[0;31mNameError\u001b[0m: name 'X_train' is not defined"
          ]
        }
      ],
      "source": [
        "import diffprivlib as dp\n",
        "\n",
        "dpclf = dp.models.RandomForestClassifier(n_estimators = 50, random_state = 0,epsilon=0.1)\n",
        "dpclf = dpclf.fit(X_train, y_train)  \n",
        "preds = dpclf.predict(X_test)  \n",
        "round(accuracy_score(y_true = y_test, y_pred = preds), 3)"
      ]
    }
  ],
  "metadata": {
    "colab": {
      "collapsed_sections": [],
      "name": "StratificationRandomState.ipynb",
      "provenance": [],
      "authorship_tag": "ABX9TyOZFlSOQTTNKFDKEOOZdY6z",
      "include_colab_link": true
    },
    "kernelspec": {
      "display_name": "Python 3",
      "name": "python3"
    },
    "language_info": {
      "name": "python"
    }
  },
  "nbformat": 4,
  "nbformat_minor": 0
}